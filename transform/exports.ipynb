{
 "cells": [
  {
   "cell_type": "markdown",
   "id": "339423af",
   "metadata": {},
   "source": [
    "# Valle del Cauca Exports - Transformation"
   ]
  },
  {
   "cell_type": "markdown",
   "id": "1f35c8ef",
   "metadata": {},
   "source": [
    "## Dependencies"
   ]
  },
  {
   "cell_type": "code",
   "execution_count": 1,
   "id": "39843dbd",
   "metadata": {},
   "outputs": [],
   "source": [
    "import os\n",
    "import sys\n",
    "import duckdb\n",
    "\n",
    "sys.path.append(\"../ingest\")\n",
    "import config  # type: ignore"
   ]
  },
  {
   "cell_type": "markdown",
   "id": "4505e97c",
   "metadata": {},
   "source": [
    "## Duckdb Database"
   ]
  },
  {
   "cell_type": "code",
   "execution_count": null,
   "id": "75bc5293",
   "metadata": {},
   "outputs": [],
   "source": [
    "if not os.path.exists(os.path.join(config.Database.dir, config.Database.filename)):\n",
    "    os.makedirs(config.Database.dir, exist_ok=True)\n",
    "\n",
    "ddb = duckdb.connect(os.path.join(config.Database.dir, config.Database.filename))"
   ]
  },
  {
   "cell_type": "code",
   "execution_count": 3,
   "id": "56b9da89",
   "metadata": {},
   "outputs": [
    {
     "data": {
      "text/plain": [
       "<duckdb.duckdb.DuckDBPyConnection at 0x76c54095c130>"
      ]
     },
     "execution_count": 3,
     "metadata": {},
     "output_type": "execute_result"
    }
   ],
   "source": [
    "ddb.execute(\n",
    "    \"\"\"CREATE OR REPLACE TABLE valle_exports\n",
    "    AS SELECT * FROM '../data/exports/clean/clean_exports.parquet';\n",
    "    \"\"\"\n",
    ")"
   ]
  },
  {
   "cell_type": "markdown",
   "id": "20963dee",
   "metadata": {},
   "source": [
    "## Dataset Summary"
   ]
  },
  {
   "cell_type": "code",
   "execution_count": 4,
   "id": "3ba4564f",
   "metadata": {},
   "outputs": [
    {
     "data": {
      "text/plain": [
       "┌─────────────┬─────────────┬─────────┬──────────────────┬───────────────┬────────────────────┬────────────────────┬────────────────────┬────────────────────┬───────────────────┬────────┬─────────────────┐\n",
       "│ column_name │ column_type │   min   │       max        │ approx_unique │        avg         │        std         │        q25         │        q50         │        q75        │ count  │ null_percentage │\n",
       "│   varchar   │   varchar   │ varchar │     varchar      │     int64     │      varchar       │      varchar       │      varchar       │      varchar       │      varchar      │ int64  │  decimal(9,2)   │\n",
       "├─────────────┼─────────────┼─────────┼──────────────────┼───────────────┼────────────────────┼────────────────────┼────────────────────┼────────────────────┼───────────────────┼────────┼─────────────────┤\n",
       "│ COD_PAI4    │ VARCHAR     │ ABW     │ ZWE              │           206 │ NULL               │ NULL               │ NULL               │ NULL               │ NULL              │ 458123 │            0.00 │\n",
       "│ MODAD       │ BIGINT      │ 2       │ 403              │             9 │ 190.60671697338924 │ 37.189824736384466 │ 198                │ 198                │ 198               │ 458123 │            0.00 │\n",
       "│ POSAR       │ UTINYINT    │ 1       │ 98               │            96 │ 44.617395328328854 │ 27.437460117987893 │ 20                 │ 39                 │ 62                │ 458123 │            0.00 │\n",
       "│ DPTO1       │ UTINYINT    │ 0       │ 99               │            37 │ 22.475926770758072 │ 23.572483148542595 │ 6                  │ 11                 │ 25                │ 458123 │            0.00 │\n",
       "│ FOBPES      │ DOUBLE      │ 388.0   │ 14276853703702.0 │        418106 │ 4212665986.03319   │ 97122486724.49915  │ 14139455.187242312 │ 116804983.12695892 │ 811997387.4414648 │ 458123 │            0.00 │\n",
       "│ AGRENA      │ DOUBLE      │ 0.0     │ 701903938.0      │         58811 │ 240517.20780663707 │ 5276352.548327664  │ 0.0                │ 0.0                │ 0.0               │ 458123 │            0.00 │\n",
       "└─────────────┴─────────────┴─────────┴──────────────────┴───────────────┴────────────────────┴────────────────────┴────────────────────┴────────────────────┴───────────────────┴────────┴─────────────────┘"
      ]
     },
     "execution_count": 4,
     "metadata": {},
     "output_type": "execute_result"
    }
   ],
   "source": [
    "ddb.sql(\"SUMMARIZE valle_exports\")"
   ]
  },
  {
   "cell_type": "markdown",
   "id": "d0f3d3db",
   "metadata": {},
   "source": [
    "## Top Departments by Exports Value (COP)\n",
    "\n",
    "- Antioquia = 5.\n",
    "- Cesar = 20.\n",
    "- Bogotá = 11.\n",
    "- Guajira = 44.\n",
    "- Cundinamarca = 25.\n",
    "- Valle del Cauca = 76.\n",
    "- Bolivar = 13.\n",
    "- Atlantico = 8.\n",
    "- Santander = 68.\n",
    "- Casanare = 85."
   ]
  },
  {
   "cell_type": "code",
   "execution_count": 5,
   "id": "0d9cafe4",
   "metadata": {},
   "outputs": [
    {
     "data": {
      "text/plain": [
       "<duckdb.duckdb.DuckDBPyConnection at 0x76c54095c130>"
      ]
     },
     "execution_count": 5,
     "metadata": {},
     "output_type": "execute_result"
    }
   ],
   "source": [
    "ddb.execute(\n",
    "    \"\"\"CREATE OR REPLACE TABLE top_valle_dptos\n",
    "    AS SELECT DPTO1, SUM(FOBPES) TOTAL_FOBPES\n",
    "    FROM valle_exports\n",
    "    WHERE MODAD = 198\n",
    "    GROUP BY DPTO1\n",
    "    HAVING DPTO1 <> 0\n",
    "    ORDER BY TOTAL_FOBPES desc;\"\"\"\n",
    ")"
   ]
  },
  {
   "cell_type": "code",
   "execution_count": 6,
   "id": "ea1d645c",
   "metadata": {},
   "outputs": [
    {
     "data": {
      "text/plain": [
       "┌───────┬───────────────────┐\n",
       "│ DPTO1 │   TOTAL_FOBPES    │\n",
       "│ uint8 │      double       │\n",
       "├───────┼───────────────────┤\n",
       "│     5 │ 274263589989446.0 │\n",
       "│    20 │ 162419056332081.0 │\n",
       "│    11 │ 137117742546987.0 │\n",
       "│    44 │  97596420351992.0 │\n",
       "│    25 │  88827005479502.0 │\n",
       "│    76 │  81858334750492.0 │\n",
       "│    13 │  70896218259780.0 │\n",
       "│     8 │  58626382716991.0 │\n",
       "│    68 │  45415433606442.0 │\n",
       "│    85 │  42147727224518.0 │\n",
       "├───────┴───────────────────┤\n",
       "│ 10 rows         2 columns │\n",
       "└───────────────────────────┘"
      ]
     },
     "execution_count": 6,
     "metadata": {},
     "output_type": "execute_result"
    }
   ],
   "source": [
    "ddb.sql(\"SELECT * FROM top_valle_dptos LIMIT 10\")"
   ]
  },
  {
   "cell_type": "markdown",
   "id": "a3e8a2db",
   "metadata": {},
   "source": [
    "## Top Valle del Cauca Exported Goods by Value (COP)\n",
    "- SUGARS AND SUGAR CONFECTIONERY = **17**.\n",
    "- ELECTRICAL MACHINERY AND EQUIPMENT AND PARTS THEREOF; SOUND RECORDERS AND REPRODUCERS; TELEVISION IMAGE AND SOUND RECORDERS AND REPRODUCERS, PARTS AND ACCESSORIES OF SUCH ARTICLES = **85**.\n",
    "- ESSENTIAL OILS AND RESINOIDS; PERFUMERY, COSMETIC OR TOILET PREPARATIONS = **33**.\n",
    "- COFFEE, TEA, MATE AND SPICES = **09**.\n",
    "- ANIMAL OR VEGETABLE FATS AND OILS AND THEIR CLEAVAGE PRODUCTS; PREPARED ANIMAL FATS; ANIMAL OR VEGETABLE WAXES = **15**.\n",
    "- PAPER AND PAPERBOARD; ARTICLES OF PAPER PULP, OF PAPER OR PAPERBOARD = **48**.\n",
    "- PHARMACEUTICAL PRODUCTS = **30**.\n",
    "- PLASTICS AND ARTICLES THEREOF = **39**.\n",
    "- ORGANIC CHEMICALS = **29**.\n",
    "- SOAP, ORGANIC SURFACE-ACTIVE AGENTS; WASHING, LUBRICATING, POLISHING OR SCOURING PREPARATIONS; ARTIFICIAL OR PREPARED WAXES, CANDLES AND SIMILAR ARTICLES, MODELLING PASTES, DENTAL WAXES AND DENTAL PREPARATIONS WITH A BASIS OF PLASTER = **34**."
   ]
  },
  {
   "cell_type": "code",
   "execution_count": 7,
   "id": "9df9ba42",
   "metadata": {},
   "outputs": [
    {
     "data": {
      "text/plain": [
       "<duckdb.duckdb.DuckDBPyConnection at 0x76c54095c130>"
      ]
     },
     "execution_count": 7,
     "metadata": {},
     "output_type": "execute_result"
    }
   ],
   "source": [
    "ddb.execute(\n",
    "    \"\"\"CREATE OR REPLACE TABLE top_valle_exports\n",
    "    AS SELECT POSAR, SUM(FOBPES) TOTAL_FOBPES\n",
    "    FROM valle_exports\n",
    "    WHERE MODAD = 198\n",
    "    AND DPTO1 = 76\n",
    "    GROUP BY POSAR\n",
    "    ORDER BY TOTAL_FOBPES desc;\"\"\"\n",
    ")"
   ]
  },
  {
   "cell_type": "code",
   "execution_count": 8,
   "id": "ff385d8c",
   "metadata": {},
   "outputs": [
    {
     "data": {
      "text/plain": [
       "┌───────┬──────────────────┐\n",
       "│ POSAR │   TOTAL_FOBPES   │\n",
       "│ uint8 │      double      │\n",
       "├───────┼──────────────────┤\n",
       "│    17 │ 12702262350103.0 │\n",
       "│    85 │  8485086383440.0 │\n",
       "│    33 │  6103203042884.0 │\n",
       "│     9 │  5539128768931.0 │\n",
       "│    15 │  5434360512784.0 │\n",
       "│    48 │  4743965456524.0 │\n",
       "│    30 │  4719139376023.0 │\n",
       "│    39 │  2842333944553.0 │\n",
       "│    29 │  2773144872237.0 │\n",
       "│    34 │  2720894673315.0 │\n",
       "├───────┴──────────────────┤\n",
       "│ 10 rows        2 columns │\n",
       "└──────────────────────────┘"
      ]
     },
     "execution_count": 8,
     "metadata": {},
     "output_type": "execute_result"
    }
   ],
   "source": [
    "ddb.sql(\"SELECT * FROM top_valle_exports LIMIT 10\")"
   ]
  },
  {
   "cell_type": "markdown",
   "id": "737bb0e0",
   "metadata": {},
   "source": [
    "## Top Valle del Cauca Exported Goods by Agregated Value (COP)\n",
    "\n",
    "- SUGARS AND SUGAR CONFECTIONERY = **17**.\n",
    "- ESSENTIAL OILS AND RESINOIDS; PERFUMERY, COSMETIC OR TOILET PREPARATIONS = **33**.\n",
    "- ORGANIC CHEMICALS = **29**.\n",
    "- ELECTRICAL MACHINERY AND EQUIPMENT AND PARTS THEREOF; SOUND RECORDERS AND REPRODUCERS; TELEVISION IMAGE AND SOUND RECORDERS AND REPRODUCERS, PARTS AND ACCESSORIES OF SUCH ARTICLES = **85**.\n",
    "- RUBBER AND ARTICLES THEREOF = **40**.\n",
    "- PHARMACEUTICAL PRODUCTS = **30**.\n",
    "- APPAREL AND CLOTHING ACCESSORIES; KNITTED OR CROCHETED = **61**.\n",
    "- PLASTICS AND ARTICLES THEREOF = **39**.\n",
    "- FURNITURE; BEDDING, MATTRESSES, MATTRESS SUPPORTS, CUSHIONS AND SIMILAR STUFFED FURNISHINGS; LAMPS AND LIGHTING FITTINGS, N.E.C.; ILLUMINATED SIGNS, ILLUMINATED NAME-PLATES AND THE LIKE; PREFABRICATED BUILDINGS = **94**.\n",
    "- APPAREL AND CLOTHING ACCESSORIES; NOT KNITTED OR CROCHETED = **62**.\n"
   ]
  },
  {
   "cell_type": "code",
   "execution_count": 9,
   "id": "03ae78f7",
   "metadata": {},
   "outputs": [
    {
     "data": {
      "text/plain": [
       "<duckdb.duckdb.DuckDBPyConnection at 0x76c54095c130>"
      ]
     },
     "execution_count": 9,
     "metadata": {},
     "output_type": "execute_result"
    }
   ],
   "source": [
    "ddb.execute(\n",
    "    \"\"\"CREATE OR REPLACE TABLE top_valle_agrena\n",
    "    AS SELECT POSAR, SUM(AGRENA) TOTAL_AGRENA\n",
    "    FROM valle_exports\n",
    "    WHERE MODAD = 198\n",
    "    AND DPTO1 = 76\n",
    "    GROUP BY POSAR\n",
    "    ORDER BY TOTAL_AGRENA desc;\"\"\"\n",
    ")"
   ]
  },
  {
   "cell_type": "code",
   "execution_count": 10,
   "id": "2e6bf0f9",
   "metadata": {},
   "outputs": [
    {
     "data": {
      "text/plain": [
       "┌───────┬──────────────┐\n",
       "│ POSAR │ TOTAL_AGRENA │\n",
       "│ uint8 │    double    │\n",
       "├───────┼──────────────┤\n",
       "│    17 │ 1393716772.0 │\n",
       "│    33 │  686211359.0 │\n",
       "│    29 │  530480555.0 │\n",
       "│    85 │  522645456.0 │\n",
       "│    40 │  415211786.0 │\n",
       "│    30 │  365447795.0 │\n",
       "│    61 │  238455051.0 │\n",
       "│    39 │  208925305.0 │\n",
       "│    94 │   87378358.0 │\n",
       "│    62 │   86717932.0 │\n",
       "├───────┴──────────────┤\n",
       "│ 10 rows    2 columns │\n",
       "└──────────────────────┘"
      ]
     },
     "execution_count": 10,
     "metadata": {},
     "output_type": "execute_result"
    }
   ],
   "source": [
    "ddb.sql(\"SELECT * FROM top_valle_agrena LIMIT 10\")"
   ]
  },
  {
   "cell_type": "markdown",
   "id": "a1bd448f",
   "metadata": {},
   "source": [
    "## Top Valle del Cauca Exports Destination by Value (COP)\n",
    "\n",
    "- United States = USA.\n",
    "- Ecuador = ECU.\n",
    "- Peru = PER.\n",
    "- Chile = CHL.\n",
    "- Mexico = MEX.\n",
    "- China = CHN.\n",
    "- Venezuela = VEN.\n",
    "- Dominican Republic = DOM.\n",
    "- Panama = PAN.\n",
    "- Brazil = BRA."
   ]
  },
  {
   "cell_type": "code",
   "execution_count": 11,
   "id": "f1f10dd6",
   "metadata": {},
   "outputs": [
    {
     "data": {
      "text/plain": [
       "<duckdb.duckdb.DuckDBPyConnection at 0x76c54095c130>"
      ]
     },
     "execution_count": 11,
     "metadata": {},
     "output_type": "execute_result"
    }
   ],
   "source": [
    "ddb.execute(\n",
    "    \"\"\"CREATE OR REPLACE TABLE top_valle_destinations\n",
    "    AS SELECT COD_PAI4, SUM(FOBPES) TOTAL_FOBPES\n",
    "    FROM valle_exports\n",
    "    WHERE MODAD = 198\n",
    "    AND DPTO1 = 76\n",
    "    GROUP BY COD_PAI4\n",
    "    ORDER BY TOTAL_FOBPES desc;\"\"\"\n",
    ")"
   ]
  },
  {
   "cell_type": "code",
   "execution_count": 12,
   "id": "ce7088b4",
   "metadata": {},
   "outputs": [
    {
     "data": {
      "text/plain": [
       "┌──────────┬──────────────────┐\n",
       "│ COD_PAI4 │   TOTAL_FOBPES   │\n",
       "│ varchar  │      double      │\n",
       "├──────────┼──────────────────┤\n",
       "│ USA      │ 19158754973403.0 │\n",
       "│ ECU      │ 11946248278060.0 │\n",
       "│ PER      │  6793737554809.0 │\n",
       "│ CHL      │  4714338667662.0 │\n",
       "│ MEX      │  4480139173605.0 │\n",
       "│ CHN      │  4069893807759.0 │\n",
       "│ VEN      │  2434020564921.0 │\n",
       "│ DOM      │  2384178293877.0 │\n",
       "│ PAN      │  2275455188170.0 │\n",
       "│ BRA      │  2262575454994.0 │\n",
       "├──────────┴──────────────────┤\n",
       "│ 10 rows           2 columns │\n",
       "└─────────────────────────────┘"
      ]
     },
     "execution_count": 12,
     "metadata": {},
     "output_type": "execute_result"
    }
   ],
   "source": [
    "ddb.sql(\"SELECT * FROM top_valle_destinations LIMIT 10\")"
   ]
  },
  {
   "cell_type": "markdown",
   "id": "94154300",
   "metadata": {},
   "source": [
    "## Top Valle del Cauca Exported Goods to Korea by Value (COP)\n",
    "\n",
    "- COPPER AND ARTICLES THEREOF = **74**.\n",
    "- PAPER AND PAPERBOARD; ARTICLES OF PAPER PULP, OF PAPER OR PAPERBOARD = **48**.\n",
    "- COFFEE, TEA, MATE AND SPICES = **09**.\n",
    "- SUGARS AND SUGAR CONFECTIONERY = **17**.\n",
    "- PREPARATIONS OF VEGETABLES, FRUIT, NUTS OR OTHER PARTS OF PLANTS = **20**.\n",
    "- ALUMINIUM AND ARTICLES THEREOF = **76**.\n",
    "- MISCELLANEOUS EDIBLE PREPARATIONS = **21**.\n",
    "- APPAREL AND CLOTHING ACCESSORIES; KNITTED OR CROCHETED = **61**.\n",
    "- ANIMAL ORIGINATED PRODUCTS; NOT ELSEWHERE SPECIFIED OR INCLUDED = **05**.\n",
    "- PRINTED BOOKS, NEWSPAPERS, PICTURES AND OTHER PRODUCTS OF THE PRINTING INDUSTRY; MANUSCRIPTS, TYPESCRIPTS AND PLANS = **49**."
   ]
  },
  {
   "cell_type": "code",
   "execution_count": 13,
   "id": "7de48c2e",
   "metadata": {},
   "outputs": [
    {
     "data": {
      "text/plain": [
       "<duckdb.duckdb.DuckDBPyConnection at 0x76c54095c130>"
      ]
     },
     "execution_count": 13,
     "metadata": {},
     "output_type": "execute_result"
    }
   ],
   "source": [
    "ddb.execute(\n",
    "    \"\"\"CREATE OR REPLACE TABLE top_valle_exports_to_korea\n",
    "    AS SELECT POSAR, SUM(FOBPES) TOTAL_FOBPES\n",
    "    FROM valle_exports\n",
    "    WHERE MODAD = 198\n",
    "    AND DPTO1 = 76\n",
    "    AND COD_PAI4 = 'KOR'\n",
    "    GROUP BY POSAR\n",
    "    ORDER BY TOTAL_FOBPES desc;\"\"\"\n",
    ")"
   ]
  },
  {
   "cell_type": "code",
   "execution_count": 14,
   "id": "ca781617",
   "metadata": {},
   "outputs": [
    {
     "data": {
      "text/plain": [
       "┌───────┬────────────────┐\n",
       "│ POSAR │  TOTAL_FOBPES  │\n",
       "│ uint8 │     double     │\n",
       "├───────┼────────────────┤\n",
       "│    74 │ 221841854647.0 │\n",
       "│    48 │ 128270074264.0 │\n",
       "│     9 │ 101644144120.0 │\n",
       "│    17 │  34464214622.0 │\n",
       "│    20 │  26086622810.0 │\n",
       "│    76 │  12724974271.0 │\n",
       "│    21 │   2244753550.0 │\n",
       "│    61 │   1307548405.0 │\n",
       "│     5 │    684778670.0 │\n",
       "│    49 │    646734013.0 │\n",
       "├───────┴────────────────┤\n",
       "│ 10 rows      2 columns │\n",
       "└────────────────────────┘"
      ]
     },
     "execution_count": 14,
     "metadata": {},
     "output_type": "execute_result"
    }
   ],
   "source": [
    "ddb.sql(\"SELECT * FROM top_valle_exports_to_korea LIMIT 10\")"
   ]
  },
  {
   "cell_type": "markdown",
   "id": "044594b4",
   "metadata": {},
   "source": [
    "## Check all Tables"
   ]
  },
  {
   "cell_type": "code",
   "execution_count": 15,
   "id": "ac2eadd2",
   "metadata": {},
   "outputs": [
    {
     "data": {
      "text/plain": [
       "┌──────────┬─────────┬────────────────────────────┬─────────────────────────────────────────────────┬───────────────────────────────────────────────────────┬───────────┐\n",
       "│ database │ schema  │            name            │                  column_names                   │                     column_types                      │ temporary │\n",
       "│ varchar  │ varchar │          varchar           │                    varchar[]                    │                       varchar[]                       │  boolean  │\n",
       "├──────────┼─────────┼────────────────────────────┼─────────────────────────────────────────────────┼───────────────────────────────────────────────────────┼───────────┤\n",
       "│ db       │ main    │ top_valle_agrena           │ [POSAR, TOTAL_AGRENA]                           │ [UTINYINT, DOUBLE]                                    │ false     │\n",
       "│ db       │ main    │ top_valle_destinations     │ [COD_PAI4, TOTAL_FOBPES]                        │ [VARCHAR, DOUBLE]                                     │ false     │\n",
       "│ db       │ main    │ top_valle_dptos            │ [DPTO1, TOTAL_FOBPES]                           │ [UTINYINT, DOUBLE]                                    │ false     │\n",
       "│ db       │ main    │ top_valle_exports          │ [POSAR, TOTAL_FOBPES]                           │ [UTINYINT, DOUBLE]                                    │ false     │\n",
       "│ db       │ main    │ top_valle_exports_to_korea │ [POSAR, TOTAL_FOBPES]                           │ [UTINYINT, DOUBLE]                                    │ false     │\n",
       "│ db       │ main    │ valle_exports              │ [COD_PAI4, MODAD, POSAR, DPTO1, FOBPES, AGRENA] │ [VARCHAR, BIGINT, UTINYINT, UTINYINT, DOUBLE, DOUBLE] │ false     │\n",
       "└──────────┴─────────┴────────────────────────────┴─────────────────────────────────────────────────┴───────────────────────────────────────────────────────┴───────────┘"
      ]
     },
     "execution_count": 15,
     "metadata": {},
     "output_type": "execute_result"
    }
   ],
   "source": [
    "ddb.sql(\"SHOW ALL TABLES\")"
   ]
  },
  {
   "cell_type": "markdown",
   "id": "737b1b55",
   "metadata": {},
   "source": [
    "## Close Connection"
   ]
  },
  {
   "cell_type": "code",
   "execution_count": 16,
   "id": "1b023bd5",
   "metadata": {},
   "outputs": [],
   "source": [
    "ddb.close()"
   ]
  }
 ],
 "metadata": {
  "kernelspec": {
   "display_name": "talento-tech",
   "language": "python",
   "name": "python3"
  },
  "language_info": {
   "codemirror_mode": {
    "name": "ipython",
    "version": 3
   },
   "file_extension": ".py",
   "mimetype": "text/x-python",
   "name": "python",
   "nbconvert_exporter": "python",
   "pygments_lexer": "ipython3",
   "version": "3.12.11"
  }
 },
 "nbformat": 4,
 "nbformat_minor": 5
}
