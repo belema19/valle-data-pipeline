{
 "cells": [
  {
   "cell_type": "markdown",
   "id": "61d81149",
   "metadata": {},
   "source": [
    "# Korea Imports - Transformation"
   ]
  },
  {
   "cell_type": "markdown",
   "id": "62e0901e",
   "metadata": {},
   "source": [
    "## Dependencies"
   ]
  },
  {
   "cell_type": "code",
   "execution_count": null,
   "id": "f02f07c6",
   "metadata": {},
   "outputs": [],
   "source": [
    "import os\n",
    "import sys\n",
    "import duckdb\n",
    "\n",
    "    sys.path.append(\"../ingest\")\n",
    "import config  # type: ignore"
   ]
  },
  {
   "cell_type": "markdown",
   "id": "2a69b918",
   "metadata": {},
   "source": [
    "## Duckdb Database"
   ]
  },
  {
   "cell_type": "code",
   "execution_count": null,
   "id": "50383b85",
   "metadata": {},
   "outputs": [],
   "source": [
    "db_dir = config.Database.dir\n",
    "db_filename = config.Database.filename\n",
    "db_path = os.path.join(db_dir, db_filename)\n",
    "\n",
    "ddb = duckdb.connect(database=db_path)"
   ]
  },
  {
   "cell_type": "code",
   "execution_count": 4,
   "id": "1cce0bba",
   "metadata": {},
   "outputs": [
    {
     "data": {
      "text/plain": [
       "<duckdb.duckdb.DuckDBPyConnection at 0x7ab76a5c4bf0>"
      ]
     },
     "execution_count": 4,
     "metadata": {},
     "output_type": "execute_result"
    }
   ],
   "source": [
    "ddb.execute(\n",
    "    \"\"\"CREATE TABLE IF NOT EXISTS korea_imports\n",
    "    AS SELECT * FROM '../data/korea-imports/clean/clean_koreaimports.parquet'\"\"\"\n",
    ")"
   ]
  },
  {
   "cell_type": "markdown",
   "id": "183f14bf",
   "metadata": {},
   "source": [
    "## Summary"
   ]
  },
  {
   "cell_type": "code",
   "execution_count": 5,
   "id": "243d4f70",
   "metadata": {},
   "outputs": [
    {
     "data": {
      "text/plain": [
       "┌──────────────┬─────────────┬───────────┬───────────────┬───────────────┬────────────────────┬────────────────────┬───────────────────┬──────────────────┬────────────────────┬───────┬─────────────────┐\n",
       "│ column_name  │ column_type │    min    │      max      │ approx_unique │        avg         │        std         │        q25        │       q50        │        q75         │ count │ null_percentage │\n",
       "│   varchar    │   varchar   │  varchar  │    varchar    │     int64     │      varchar       │      varchar       │      varchar      │     varchar      │      varchar       │ int64 │  decimal(9,2)   │\n",
       "├──────────────┼─────────────┼───────────┼───────────────┼───────────────┼────────────────────┼────────────────────┼───────────────────┼──────────────────┼────────────────────┼───────┼─────────────────┤\n",
       "│ partnerDesc  │ VARCHAR     │ Argentina │ World         │             5 │ NULL               │ NULL               │ NULL              │ NULL             │ NULL               │  5483 │            0.00 │\n",
       "│ cmdCode      │ UTINYINT    │ 1         │ 99            │            96 │ 53.8923946744483   │ 27.580397262928262 │ 29                │ 56               │ 83                 │  5483 │            0.00 │\n",
       "│ primaryValue │ DOUBLE      │ 1.0       │ 86158418645.0 │          5498 │ 160464154.37333578 │ 1652005871.0512948 │ 31014.39236409435 │ 2098874.84074823 │ 36664160.491865955 │  5483 │            0.00 │\n",
       "└──────────────┴─────────────┴───────────┴───────────────┴───────────────┴────────────────────┴────────────────────┴───────────────────┴──────────────────┴────────────────────┴───────┴─────────────────┘"
      ]
     },
     "execution_count": 5,
     "metadata": {},
     "output_type": "execute_result"
    }
   ],
   "source": [
    "ddb.sql(\"SUMMARIZE korea_imports\")"
   ]
  },
  {
   "cell_type": "markdown",
   "id": "64714660",
   "metadata": {},
   "source": [
    "## Top Korea Imports from World by Value (USD)\n",
    "\n",
    "- MINERAL FUELS, MINERAL OILS AND PRODUCTS OF THEIR DISTILLATION; BITUMINOUS SUBSTANCES; MINERAL WAXES = **27**.\n",
    "- ELECTRICAL MACHINERY AND EQUIPMENT AND PARTS THEREOF; SOUND RECORDERS AND REPRODUCERS; TELEVISION IMAGE AND SOUND RECORDERS AND REPRODUCERS, PARTS AND ACCESSORIES OF SUCH ARTICLES = **85**.\n",
    "- NUCLEAR REACTORS, BOILERS, MACHINERY AND MECHANICAL APPLIANCES; PARTS THEREOF = **84**.\n",
    "- VEHICLES; OTHER THAN RAILWAY OR TRAMWAY ROLLING STOCK, AND PARTS AND ACCESSORIES THEREOF = **87**.\n",
    "- OPTICAL, PHOTOGRAPHIC, CINEMATOGRAPHIC, MEASURING, CHECKING, MEDICAL OR SURGICAL INSTRUMENTS AND APPARATUS; PARTS AND ACCESSORIES = **90**.\n",
    "- INORGANIC CHEMICALS; ORGANIC AND INORGANIC COMPOUNDS OF PRECIOUS METALS; OF RARE EARTH METALS, OF RADIO-ACTIVE ELEMENTS AND OF ISOTOPES = **28**.\n",
    "- ORES, SLAG AND ASH = **26**.\n",
    "- IRON AND STEEL = **72**.\n",
    "- ORGANIC CHEMICALS = **29**.\n",
    "- PLASTICS AND ARTICLES THEREOF = **39**."
   ]
  },
  {
   "cell_type": "code",
   "execution_count": 6,
   "id": "debdddbe",
   "metadata": {},
   "outputs": [
    {
     "data": {
      "text/plain": [
       "<duckdb.duckdb.DuckDBPyConnection at 0x7ab76a5c4bf0>"
      ]
     },
     "execution_count": 6,
     "metadata": {},
     "output_type": "execute_result"
    }
   ],
   "source": [
    "ddb.execute(\n",
    "    \"\"\"CREATE VIEW IF NOT EXISTS top_korea_imports\n",
    "    AS SELECT cmdCode, SUM(primaryValue) totalValue\n",
    "    FROM korea_imports\n",
    "    WHERE partnerDesc = 'World'\n",
    "    GROUP BY cmdCode\n",
    "    ORDER BY totalValue desc;\"\"\"\n",
    ")"
   ]
  },
  {
   "cell_type": "code",
   "execution_count": 7,
   "id": "d5545e69",
   "metadata": {},
   "outputs": [
    {
     "data": {
      "text/plain": [
       "┌─────────┬────────────────┐\n",
       "│ cmdCode │   totalValue   │\n",
       "│  uint8  │     double     │\n",
       "├─────────┼────────────────┤\n",
       "│      27 │ 171354533642.0 │\n",
       "│      85 │ 119478238633.0 │\n",
       "│      84 │  63072733926.0 │\n",
       "│      87 │  22134904666.0 │\n",
       "│      90 │  21958896343.0 │\n",
       "│      28 │  21516316779.0 │\n",
       "│      26 │  19707452376.0 │\n",
       "│      72 │  16471724419.0 │\n",
       "│      29 │  13572871176.0 │\n",
       "│      39 │  12710272397.0 │\n",
       "│       · │          ·     │\n",
       "│       · │          ·     │\n",
       "│       · │          ·     │\n",
       "│      14 │     88596298.0 │\n",
       "│      58 │     85992982.0 │\n",
       "│       1 │     81420586.0 │\n",
       "│      53 │     60518334.0 │\n",
       "│      57 │     58638446.0 │\n",
       "│      36 │     54708395.0 │\n",
       "│      50 │     34511657.0 │\n",
       "│      46 │     27726945.0 │\n",
       "│      45 │      5077975.0 │\n",
       "│      99 │          321.0 │\n",
       "├─────────┴────────────────┤\n",
       "│    97 rows (20 shown)    │\n",
       "└──────────────────────────┘"
      ]
     },
     "execution_count": 7,
     "metadata": {},
     "output_type": "execute_result"
    }
   ],
   "source": [
    "ddb.sql(\"SELECT * FROM top_korea_imports\")"
   ]
  },
  {
   "cell_type": "markdown",
   "id": "8fdc3677",
   "metadata": {},
   "source": [
    "## Top Korea Import from China and USA by Value (USD)\n",
    "\n",
    "- ELECTRICAL MACHINERY AND EQUIPMENT AND PARTS THEREOF; SOUND RECORDERS AND REPRODUCERS; TELEVISION IMAGE AND SOUND RECORDERS AND REPRODUCERS, PARTS AND ACCESSORIES OF SUCH ARTICLES = **85**.\n",
    "- NUCLEAR REACTORS, BOILERS, MACHINERY AND MECHANICAL APPLIANCES; PARTS THEREOF = **84**.\n",
    "- MINERAL FUELS, MINERAL OILS AND PRODUCTS OF THEIR DISTILLATION; BITUMINOUS SUBSTANCES; MINERAL WAXES = **27**.\n",
    "- INORGANIC CHEMICALS; ORGANIC AND INORGANIC COMPOUNDS OF PRECIOUS METALS; OF RARE EARTH METALS, OF RADIO-ACTIVE ELEMENTS AND OF ISOTOPES = **28**.\n",
    "- OPTICAL, PHOTOGRAPHIC, CINEMATOGRAPHIC, MEASURING, CHECKING, MEDICAL OR SURGICAL INSTRUMENTS AND APPARATUS; PARTS AND ACCESSORIES = **90**.\n",
    "- VEHICLES; OTHER THAN RAILWAY OR TRAMWAY ROLLING STOCK, AND PARTS AND ACCESSORIES THEREOF = **87**.\n",
    "- IRON AND STEEL = **72**.\n",
    "- ORGANIC CHEMICALS = **29**.\n",
    "- PLASTICS AND ARTICLES THEREOF = **39**.\n",
    "- IRON OR STEEL ARTICLES = **73**."
   ]
  },
  {
   "cell_type": "code",
   "execution_count": 8,
   "id": "55ccc492",
   "metadata": {},
   "outputs": [
    {
     "data": {
      "text/plain": [
       "<duckdb.duckdb.DuckDBPyConnection at 0x7ab76a5c4bf0>"
      ]
     },
     "execution_count": 8,
     "metadata": {},
     "output_type": "execute_result"
    }
   ],
   "source": [
    "ddb.execute(\n",
    "    \"\"\"CREATE VIEW IF NOT EXISTS top_korea_imports_from_main_partners\n",
    "    AS SELECT cmdCode, SUM(primaryValue) totalValue\n",
    "    FROM korea_imports\n",
    "    WHERE partnerDesc IN ('China', 'USA')\n",
    "    GROUP BY cmdCode\n",
    "    ORDER BY totalValue desc;\"\"\"\n",
    ")"
   ]
  },
  {
   "cell_type": "code",
   "execution_count": 9,
   "id": "c31b0170",
   "metadata": {},
   "outputs": [
    {
     "data": {
      "text/plain": [
       "┌─────────┬───────────────┐\n",
       "│ cmdCode │  totalValue   │\n",
       "│  uint8  │    double     │\n",
       "├─────────┼───────────────┤\n",
       "│      85 │ 56509198848.0 │\n",
       "│      84 │ 25607072932.0 │\n",
       "│      27 │ 23195785444.0 │\n",
       "│      28 │ 14376306897.0 │\n",
       "│      90 │  8352982797.0 │\n",
       "│      87 │  7423606011.0 │\n",
       "│      72 │  6660043279.0 │\n",
       "│      29 │  6472001586.0 │\n",
       "│      39 │  6331655357.0 │\n",
       "│      73 │  5087310595.0 │\n",
       "│       · │         ·     │\n",
       "│       · │         ·     │\n",
       "│       · │         ·     │\n",
       "│      58 │    50395840.0 │\n",
       "│      53 │    42824215.0 │\n",
       "│       1 │    42481606.0 │\n",
       "│      36 │    37205119.0 │\n",
       "│      50 │    28858375.0 │\n",
       "│      14 │    16292780.0 │\n",
       "│      46 │    14369052.0 │\n",
       "│      79 │     8344773.0 │\n",
       "│      78 │     5410246.0 │\n",
       "│      45 │     2137698.0 │\n",
       "├─────────┴───────────────┤\n",
       "│   95 rows (20 shown)    │\n",
       "└─────────────────────────┘"
      ]
     },
     "execution_count": 9,
     "metadata": {},
     "output_type": "execute_result"
    }
   ],
   "source": [
    "ddb.sql(\"SELECT * FROM top_korea_imports_from_main_partners\")"
   ]
  },
  {
   "cell_type": "markdown",
   "id": "297c2ffa",
   "metadata": {},
   "source": [
    "## Top Korea Imports form Iberoamerican Partners by Value (USD)\n",
    "\n",
    "- ORES, SLAG AND ASH = **26**.\n",
    "- MINERAL FUELS, MINERAL OILS AND PRODUCTS OF THEIR DISTILLATION; BITUMINOUS SUBSTANCES; MINERAL WAXES = **27**.\n",
    "- INORGANIC CHEMICALS; ORGANIC AND INORGANIC COMPOUNDS OF PRECIOUS METALS; OF RARE EARTH METALS, OF RADIO-ACTIVE ELEMENTS AND OF ISOTOPES = **28**.\n",
    "- CEREALS = **10**.\n",
    "- COPPER AND ARTICLES THEREOF = **74**.\n",
    "- NUCLEAR REACTORS, BOILERS, MACHINERY AND MECHANICAL APPLIANCES; PARTS THEREOF = **84**.\n",
    "- VEHICLES; OTHER THAN RAILWAY OR TRAMWAY ROLLING STOCK, AND PARTS AND ACCESSORIES THEREOF = **87**.\n",
    "- FOOD INDUSTRIES, RESIDUES AND WASTES THEREOF; PREPARED ANIMAL FODDER = **23**.\n",
    "- ELECTRICAL MACHINERY AND EQUIPMENT AND PARTS THEREOF; SOUND RECORDERS AND REPRODUCERS; TELEVISION IMAGE AND SOUND RECORDERS AND REPRODUCERS, PARTS AND ACCESSORIES OF SUCH ARTICLES = **85**.\n",
    "- MEAT AND EDIBLE MEAT OFFAL = **02**.\n",
    "\n"
   ]
  },
  {
   "cell_type": "code",
   "execution_count": 10,
   "id": "62347954",
   "metadata": {},
   "outputs": [
    {
     "data": {
      "text/plain": [
       "<duckdb.duckdb.DuckDBPyConnection at 0x7ab76a5c4bf0>"
      ]
     },
     "execution_count": 10,
     "metadata": {},
     "output_type": "execute_result"
    }
   ],
   "source": [
    "ddb.execute(\n",
    "    \"\"\"CREATE VIEW IF NOT EXISTS top_korea_imports_from_iberoamerica\n",
    "    AS SELECT cmdCode, SUM(primaryValue) totalValue\n",
    "    FROM korea_imports\n",
    "    WHERE partnerDesc NOT IN ('China', 'USA', 'World', 'Colombia')\n",
    "    GROUP BY cmdCode\n",
    "    ORDER BY totalValue desc;\"\"\"\n",
    ")"
   ]
  },
  {
   "cell_type": "code",
   "execution_count": 11,
   "id": "012356c0",
   "metadata": {},
   "outputs": [
    {
     "data": {
      "text/plain": [
       "┌─────────┬──────────────┐\n",
       "│ cmdCode │  totalValue  │\n",
       "│  uint8  │    double    │\n",
       "├─────────┼──────────────┤\n",
       "│      26 │ 4361260632.0 │\n",
       "│      27 │ 3989716153.0 │\n",
       "│      28 │ 3327486088.0 │\n",
       "│      10 │ 1979956803.0 │\n",
       "│      74 │ 1889418782.0 │\n",
       "│      84 │ 1149563256.0 │\n",
       "│      87 │  789402179.0 │\n",
       "│      23 │  720078555.0 │\n",
       "│      85 │  716490028.0 │\n",
       "│       2 │  693113371.0 │\n",
       "│       · │         ·    │\n",
       "│       · │         ·    │\n",
       "│       · │         ·    │\n",
       "│      91 │      24930.0 │\n",
       "│      93 │      15064.0 │\n",
       "│      43 │      11480.0 │\n",
       "│      53 │       9474.0 │\n",
       "│      37 │       7088.0 │\n",
       "│      36 │       6354.0 │\n",
       "│      46 │       4009.0 │\n",
       "│      80 │        429.0 │\n",
       "│      66 │        381.0 │\n",
       "│      45 │         62.0 │\n",
       "├─────────┴──────────────┤\n",
       "│   94 rows (20 shown)   │\n",
       "└────────────────────────┘"
      ]
     },
     "execution_count": 11,
     "metadata": {},
     "output_type": "execute_result"
    }
   ],
   "source": [
    "ddb.sql(\"SELECT * FROM top_korea_imports_from_iberoamerica\")"
   ]
  },
  {
   "cell_type": "markdown",
   "id": "5124e935",
   "metadata": {},
   "source": [
    "## Top Korea Imports from Colombia by Value (USD)\n",
    "\n",
    "- MINERAL FUELS, MINERAL OILS AND PRODUCTS OF THEIR DISTILLATION; BITUMINOUS SUBSTANCES; MINERAL WAXES = **27**.\n",
    "- COFFEE, TEA, MATE AND SPICES = **09**.\n",
    "- IRON AND STEEL = **72**.\n",
    "- COPPER AND ARTICLES THEREOF = **74**.\n",
    "- TREES AND OTHER PLANTS, LIVE; BULBS, ROOTS AND THE LIKE; CUT FLOWERS AND ORNAMENTAL FOLIAGE = **06**.\n",
    "- MISCELLANEOUS EDIBLE PREPARATIONS = **21**.\n",
    "- CHEMICAL PRODUCTS N.E.C. = **38**.\n",
    "- FRUIT AND NUTS, EDIBLE; PEEL OF CITRUS FRUIT OR MELONS = **08**.\n",
    "- ORES, SLAG AND ASH = **26**.\n",
    "- ALUMINIUM AND ARTICLES THEREOF = **76**."
   ]
  },
  {
   "cell_type": "code",
   "execution_count": 12,
   "id": "14bcb69b",
   "metadata": {},
   "outputs": [
    {
     "data": {
      "text/plain": [
       "<duckdb.duckdb.DuckDBPyConnection at 0x7ab76a5c4bf0>"
      ]
     },
     "execution_count": 12,
     "metadata": {},
     "output_type": "execute_result"
    }
   ],
   "source": [
    "ddb.execute(\n",
    "    \"\"\"CREATE VIEW IF NOT EXISTS top_korea_imports_from_colombia\n",
    "    AS SELECT cmdCode, SUM(primaryValue) totalValue\n",
    "    FROM korea_imports\n",
    "    WHERE partnerDesc NOT IN ('China', 'USA', 'World', 'Colombia')\n",
    "    GROUP BY cmdCode\n",
    "    ORDER BY totalValue desc;\"\"\"\n",
    ")"
   ]
  },
  {
   "cell_type": "code",
   "execution_count": 13,
   "id": "2f16f8c6",
   "metadata": {},
   "outputs": [
    {
     "data": {
      "text/plain": [
       "┌─────────┬──────────────┐\n",
       "│ cmdCode │  totalValue  │\n",
       "│  uint8  │    double    │\n",
       "├─────────┼──────────────┤\n",
       "│      26 │ 4361260632.0 │\n",
       "│      27 │ 3989716153.0 │\n",
       "│      28 │ 3327486088.0 │\n",
       "│      10 │ 1979956803.0 │\n",
       "│      74 │ 1889418782.0 │\n",
       "│      84 │ 1149563256.0 │\n",
       "│      87 │  789402179.0 │\n",
       "│      23 │  720078555.0 │\n",
       "│      85 │  716490028.0 │\n",
       "│       2 │  693113371.0 │\n",
       "│       · │         ·    │\n",
       "│       · │         ·    │\n",
       "│       · │         ·    │\n",
       "│      91 │      24930.0 │\n",
       "│      93 │      15064.0 │\n",
       "│      43 │      11480.0 │\n",
       "│      53 │       9474.0 │\n",
       "│      37 │       7088.0 │\n",
       "│      36 │       6354.0 │\n",
       "│      46 │       4009.0 │\n",
       "│      80 │        429.0 │\n",
       "│      66 │        381.0 │\n",
       "│      45 │         62.0 │\n",
       "├─────────┴──────────────┤\n",
       "│   94 rows (20 shown)   │\n",
       "└────────────────────────┘"
      ]
     },
     "execution_count": 13,
     "metadata": {},
     "output_type": "execute_result"
    }
   ],
   "source": [
    "ddb.sql(\"SELECT * FROM top_korea_imports_from_colombia\")"
   ]
  },
  {
   "cell_type": "markdown",
   "id": "2d862de0",
   "metadata": {},
   "source": [
    "## Check all Tables"
   ]
  },
  {
   "cell_type": "code",
   "execution_count": 14,
   "id": "a5612a1a",
   "metadata": {},
   "outputs": [
    {
     "data": {
      "text/plain": [
       "┌──────────┬─────────┬──────────────────────────────────────┬──────────────────────────────────────┬─────────────────────────────┬───────────┐\n",
       "│ database │ schema  │                 name                 │             column_names             │        column_types         │ temporary │\n",
       "│ varchar  │ varchar │               varchar                │              varchar[]               │          varchar[]          │  boolean  │\n",
       "├──────────┼─────────┼──────────────────────────────────────┼──────────────────────────────────────┼─────────────────────────────┼───────────┤\n",
       "│ db       │ main    │ korea_imports                        │ [partnerDesc, cmdCode, primaryValue] │ [VARCHAR, UTINYINT, DOUBLE] │ false     │\n",
       "│ db       │ main    │ top_korea_imports                    │ [cmdCode, totalValue]                │ [UTINYINT, DOUBLE]          │ false     │\n",
       "│ db       │ main    │ top_korea_imports_from_colombia      │ [cmdCode, totalValue]                │ [UTINYINT, DOUBLE]          │ false     │\n",
       "│ db       │ main    │ top_korea_imports_from_iberoamerica  │ [cmdCode, totalValue]                │ [UTINYINT, DOUBLE]          │ false     │\n",
       "│ db       │ main    │ top_korea_imports_from_main_partners │ [cmdCode, totalValue]                │ [UTINYINT, DOUBLE]          │ false     │\n",
       "└──────────┴─────────┴──────────────────────────────────────┴──────────────────────────────────────┴─────────────────────────────┴───────────┘"
      ]
     },
     "execution_count": 14,
     "metadata": {},
     "output_type": "execute_result"
    }
   ],
   "source": [
    "ddb.sql(\"SHOW ALL TABLES\")"
   ]
  },
  {
   "cell_type": "markdown",
   "id": "5d20f0d8",
   "metadata": {},
   "source": [
    "## Close Connection"
   ]
  },
  {
   "cell_type": "code",
   "execution_count": 16,
   "id": "e5239254",
   "metadata": {},
   "outputs": [],
   "source": [
    "ddb.close()"
   ]
  }
 ],
 "metadata": {
  "kernelspec": {
   "display_name": "talento-tech",
   "language": "python",
   "name": "python3"
  },
  "language_info": {
   "codemirror_mode": {
    "name": "ipython",
    "version": 3
   },
   "file_extension": ".py",
   "mimetype": "text/x-python",
   "name": "python",
   "nbconvert_exporter": "python",
   "pygments_lexer": "ipython3",
   "version": "3.12.11"
  }
 },
 "nbformat": 4,
 "nbformat_minor": 5
}
