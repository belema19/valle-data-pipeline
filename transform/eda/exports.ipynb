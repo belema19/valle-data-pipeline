{
 "cells": [
  {
   "cell_type": "markdown",
   "id": "47cb432a",
   "metadata": {},
   "source": [
    "# Valle del Cauca Exports - EDA"
   ]
  },
  {
   "cell_type": "markdown",
   "id": "9ae7a6da",
   "metadata": {},
   "source": [
    "## Dependencies"
   ]
  },
  {
   "cell_type": "code",
   "execution_count": 14,
   "id": "2305ac75",
   "metadata": {},
   "outputs": [],
   "source": [
    "\n",
    "import os\n",
    "import sys\n",
    "import duckdb\n",
    "import pandas as pd\n",
    "import numpy as np\n",
    "import pyarrow as pa\n",
    "import matplotlib.pyplot as plt\n",
    "\n",
    "sys.path.append(\"/workspaces/talento_tech/ingest/\")\n",
    "import config  # type: ignore"
   ]
  },
  {
   "cell_type": "markdown",
   "id": "672115e1",
   "metadata": {},
   "source": [
    "## Duckdb Database"
   ]
  },
  {
   "cell_type": "code",
   "execution_count": 2,
   "id": "0a0a3e1e",
   "metadata": {},
   "outputs": [],
   "source": [
    "\n",
    "db_dir = config.Database.dir\n",
    "db_filename = config.Database.filename\n",
    "db_path = os.path.join(db_dir, db_filename)\n",
    "\n",
    "ddb = duckdb.connect(database=db_path)"
   ]
  },
  {
   "cell_type": "code",
   "execution_count": 25,
   "id": "5b96723b",
   "metadata": {},
   "outputs": [],
   "source": [
    "df = ddb.sql(\n",
    "    \"\"\"SELECT POSAR, FOBPES, COD_PAI4\n",
    "    FROM valle_exports\n",
    "    WHERE POSAR IN (\n",
    "        SELECT POSAR\n",
    "        FROM top_valle_exports\n",
    "        LIMIT 10\n",
    "    );\n",
    "    \"\"\"\n",
    ").df()\n"
   ]
  },
  {
   "cell_type": "code",
   "execution_count": 27,
   "id": "a04edf26",
   "metadata": {},
   "outputs": [
    {
     "data": {
      "text/html": [
       "<div>\n",
       "<style scoped>\n",
       "    .dataframe tbody tr th:only-of-type {\n",
       "        vertical-align: middle;\n",
       "    }\n",
       "\n",
       "    .dataframe tbody tr th {\n",
       "        vertical-align: top;\n",
       "    }\n",
       "\n",
       "    .dataframe thead th {\n",
       "        text-align: right;\n",
       "    }\n",
       "</style>\n",
       "<table border=\"1\" class=\"dataframe\">\n",
       "  <thead>\n",
       "    <tr style=\"text-align: right;\">\n",
       "      <th></th>\n",
       "      <th>POSAR</th>\n",
       "      <th>FOBPES</th>\n",
       "      <th>COD_PAI4</th>\n",
       "    </tr>\n",
       "  </thead>\n",
       "  <tbody>\n",
       "    <tr>\n",
       "      <th>0</th>\n",
       "      <td>39</td>\n",
       "      <td>3.593849e+08</td>\n",
       "      <td>DEU</td>\n",
       "    </tr>\n",
       "    <tr>\n",
       "      <th>1</th>\n",
       "      <td>85</td>\n",
       "      <td>4.188726e+08</td>\n",
       "      <td>DEU</td>\n",
       "    </tr>\n",
       "    <tr>\n",
       "      <th>2</th>\n",
       "      <td>9</td>\n",
       "      <td>1.796368e+08</td>\n",
       "      <td>DEU</td>\n",
       "    </tr>\n",
       "    <tr>\n",
       "      <th>3</th>\n",
       "      <td>85</td>\n",
       "      <td>5.264655e+07</td>\n",
       "      <td>DEU</td>\n",
       "    </tr>\n",
       "    <tr>\n",
       "      <th>4</th>\n",
       "      <td>33</td>\n",
       "      <td>2.432270e+08</td>\n",
       "      <td>DEU</td>\n",
       "    </tr>\n",
       "    <tr>\n",
       "      <th>...</th>\n",
       "      <td>...</td>\n",
       "      <td>...</td>\n",
       "      <td>...</td>\n",
       "    </tr>\n",
       "    <tr>\n",
       "      <th>130252</th>\n",
       "      <td>33</td>\n",
       "      <td>2.972987e+08</td>\n",
       "      <td>MEX</td>\n",
       "    </tr>\n",
       "    <tr>\n",
       "      <th>130253</th>\n",
       "      <td>34</td>\n",
       "      <td>2.166904e+08</td>\n",
       "      <td>MEX</td>\n",
       "    </tr>\n",
       "    <tr>\n",
       "      <th>130254</th>\n",
       "      <td>39</td>\n",
       "      <td>2.851182e+09</td>\n",
       "      <td>MEX</td>\n",
       "    </tr>\n",
       "    <tr>\n",
       "      <th>130255</th>\n",
       "      <td>33</td>\n",
       "      <td>5.122166e+07</td>\n",
       "      <td>MEX</td>\n",
       "    </tr>\n",
       "    <tr>\n",
       "      <th>130256</th>\n",
       "      <td>33</td>\n",
       "      <td>5.471825e+09</td>\n",
       "      <td>MEX</td>\n",
       "    </tr>\n",
       "  </tbody>\n",
       "</table>\n",
       "<p>130257 rows × 3 columns</p>\n",
       "</div>"
      ],
      "text/plain": [
       "        POSAR        FOBPES COD_PAI4\n",
       "0          39  3.593849e+08      DEU\n",
       "1          85  4.188726e+08      DEU\n",
       "2           9  1.796368e+08      DEU\n",
       "3          85  5.264655e+07      DEU\n",
       "4          33  2.432270e+08      DEU\n",
       "...       ...           ...      ...\n",
       "130252     33  2.972987e+08      MEX\n",
       "130253     34  2.166904e+08      MEX\n",
       "130254     39  2.851182e+09      MEX\n",
       "130255     33  5.122166e+07      MEX\n",
       "130256     33  5.471825e+09      MEX\n",
       "\n",
       "[130257 rows x 3 columns]"
      ]
     },
     "execution_count": 27,
     "metadata": {},
     "output_type": "execute_result"
    }
   ],
   "source": [
    "df"
   ]
  },
  {
   "cell_type": "code",
   "execution_count": 28,
   "id": "b920e039",
   "metadata": {},
   "outputs": [
    {
     "data": {
      "text/plain": [
       "<Axes: xlabel='POSAR', ylabel='FOBPES'>"
      ]
     },
     "execution_count": 28,
     "metadata": {},
     "output_type": "execute_result"
    },
    {
     "data": {
      "image/png": "[encoded data removed]",
      "text/plain": [
       "<Figure size 640x480 with 1 Axes>"
      ]
     },
     "metadata": {},
     "output_type": "display_data"
    }
   ],
   "source": [
    "df.plot.scatter(\n",
    "    x = \"POSAR\",\n",
    "    y = \"FOBPES\"\n",
    ")"
   ]
  },
  {
   "cell_type": "code",
   "execution_count": 21,
   "id": "839ec241",
   "metadata": {},
   "outputs": [
    {
     "data": {
      "text/plain": [
       "<Axes: ylabel='Frequency'>"
      ]
     },
     "execution_count": 21,
     "metadata": {},
     "output_type": "execute_result"
    },
    {
     "data": {
      "image/png": "[encoded data removed]",
      "text/plain": [
       "<Figure size 640x480 with 1 Axes>"
      ]
     },
     "metadata": {},
     "output_type": "display_data"
    }
   ],
   "source": [
    "df.plot.hist(column=\"POSAR\")"
   ]
  },
  {
   "cell_type": "code",
   "execution_count": 36,
   "id": "a592da44",
   "metadata": {},
   "outputs": [],
   "source": [
    "df[\"POSAR\"] = df[\"POSAR\"].astype(dtype=pd.ArrowDtype(pa.uint8()))"
   ]
  }
 ],
 "metadata": {
  "kernelspec": {
   "display_name": "talento-tech",
   "language": "python",
   "name": "python3"
  },
  "language_info": {
   "codemirror_mode": {
    "name": "ipython",
    "version": 3
   },
   "file_extension": ".py",
   "mimetype": "text/x-python",
   "name": "python",
   "nbconvert_exporter": "python",
   "pygments_lexer": "ipython3",
   "version": "3.12.11"
  }
 },
 "nbformat": 4,
 "nbformat_minor": 5
}
