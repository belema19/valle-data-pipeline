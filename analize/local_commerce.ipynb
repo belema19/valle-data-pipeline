{
 "cells": [
  {
   "cell_type": "markdown",
   "id": "ffcc6404",
   "metadata": {},
   "source": [
    "# Valle del Cauca Local Commerce - Analysis"
   ]
  },
  {
   "cell_type": "code",
   "execution_count": 1,
   "id": "865775db",
   "metadata": {},
   "outputs": [],
   "source": [
    "import os\n",
    "import sys\n",
    "import duckdb\n",
    "\n",
    "sys.path.append(\"../ingest\")\n",
    "import config # type: ignore"
   ]
  },
  {
   "cell_type": "markdown",
   "id": "94588d73",
   "metadata": {},
   "source": [
    "## Check for Files in Clean Data Directory"
   ]
  },
  {
   "cell_type": "code",
   "execution_count": 2,
   "id": "68879839",
   "metadata": {},
   "outputs": [
    {
     "name": "stdout",
     "output_type": "stream",
     "text": [
      "['clean_localcommerce.parquet']\n"
     ]
    }
   ],
   "source": [
    "clean_data = \".\" + config.Local_Dir.Local_Commerce[\"clean\"]\n",
    "print(os.listdir(clean_data))"
   ]
  },
  {
   "cell_type": "markdown",
   "id": "ae4edbc0",
   "metadata": {},
   "source": [
    "## Duckdb Relation"
   ]
  },
  {
   "cell_type": "code",
   "execution_count": 3,
   "id": "27d94e86",
   "metadata": {},
   "outputs": [],
   "source": [
    "conn = duckdb.connect()\n",
    "rel = conn.from_parquet(clean_data + config.datasets[\"local-commerce\"][\"filename-clean\"])"
   ]
  },
  {
   "cell_type": "markdown",
   "id": "08bc5569",
   "metadata": {},
   "source": [
    "## Dataset Summary"
   ]
  },
  {
   "cell_type": "code",
   "execution_count": 4,
   "id": "79a049cf",
   "metadata": {},
   "outputs": [
    {
     "data": {
      "text/plain": [
       "┌─────────────┬─────────────┬─────────┬──────────────┬───────────────┬────────────────────┬────────────────────┬────────────────────┬───────────────────┬────────────────────┬───────┬─────────────────┐\n",
       "│ column_name │ column_type │   min   │     max      │ approx_unique │        avg         │        std         │        q25         │        q50        │        q75         │ count │ null_percentage │\n",
       "│   varchar   │   varchar   │ varchar │   varchar    │     int64     │      varchar       │      varchar       │      varchar       │      varchar      │      varchar       │ int64 │  decimal(9,2)   │\n",
       "├─────────────┼─────────────┼─────────┼──────────────┼───────────────┼────────────────────┼────────────────────┼────────────────────┼───────────────────┼────────────────────┼───────┼─────────────────┤\n",
       "│ DEPTO       │ UTINYINT    │ 1       │ 10           │            11 │ 4.524233296823659  │ 3.3310879828536777 │ 2                  │ 3                 │ 7                  │ 14608 │            0.00 │\n",
       "│ CORRELA_9   │ VARCHAR     │ 451     │ 476 - 477    │            10 │ NULL               │ NULL               │ NULL               │ NULL              │ NULL               │ 14608 │            0.00 │\n",
       "│ VENTA       │ DOUBLE      │ 0.0     │ 3916037484.0 │         13221 │ 30632514.504312705 │ 109914457.23947483 │ 3238787.8198669017 │ 9153639.475540845 │ 23440398.273793567 │ 14608 │            0.00 │\n",
       "└─────────────┴─────────────┴─────────┴──────────────┴───────────────┴────────────────────┴────────────────────┴────────────────────┴───────────────────┴────────────────────┴───────┴─────────────────┘"
      ]
     },
     "execution_count": 4,
     "metadata": {},
     "output_type": "execute_result"
    }
   ],
   "source": [
    "summary = rel.query(virtual_table_name=\"summary\", sql_query=\"SUMMARIZE rel\")\n",
    "summary"
   ]
  },
  {
   "cell_type": "markdown",
   "id": "9587bd10",
   "metadata": {},
   "source": [
    "## Top Departments by Local Commerce Value (COP)\n",
    "\n",
    "- Antioquia = 1.\n",
    "- Atlantico = 2.\n",
    "- Bogota = 3.\n",
    "- Bolivar = 4.\n",
    "- Cundinamarca = 5.\n",
    "- Risaralda = 6.\n",
    "- Santander = 7.\n",
    "- Tolima = 8.\n",
    "- Valle del Cauca = 9."
   ]
  },
  {
   "cell_type": "code",
   "execution_count": 5,
   "id": "88ba949a",
   "metadata": {},
   "outputs": [
    {
     "data": {
      "text/plain": [
       "┌───────┬────────────────┐\n",
       "│ DEPTO │  TOTAL_VENTA   │\n",
       "│ uint8 │     double     │\n",
       "├───────┼────────────────┤\n",
       "│     1 │ 163292606206.0 │\n",
       "│     2 │  69129071523.0 │\n",
       "│     3 │  41760972582.0 │\n",
       "│     4 │  36942168525.0 │\n",
       "│     5 │  22118532026.0 │\n",
       "│     6 │  16087805109.0 │\n",
       "│     7 │  11434499814.0 │\n",
       "│     8 │   9693001120.0 │\n",
       "│     9 │   7362648460.0 │\n",
       "└───────┴────────────────┘"
      ]
     },
     "execution_count": 5,
     "metadata": {},
     "output_type": "execute_result"
    }
   ],
   "source": [
    "top_dptos = rel.query(\n",
    "    virtual_table_name=\"top_dptos\",\n",
    "    sql_query=\"\"\"SELECT DEPTO, SUM(VENTA) TOTAL_VENTA\n",
    "    FROM rel\n",
    "    WHERE DEPTO <> 10\n",
    "    GROUP BY DEPTO\n",
    "    ORDER BY TOTAL_VENTA desc\n",
    "    LIMIT 10;\"\"\"\n",
    ")\n",
    "top_dptos"
   ]
  },
  {
   "cell_type": "markdown",
   "id": "8488e868",
   "metadata": {},
   "source": [
    "## Top Valle del Cauca Commerced Goods by Value (COP)\n",
    "\n",
    "- Comercio al por menor en establecimientos no especializados y especializados en alimentos = **471-472**.\n",
    "- Comercio al por mayor especializado de otros productos y no especializado = **466-469**.\n",
    "- Comercio de vehículos automotores = **451**.\n",
    "- Comercio al por mayor de materias primas agropecuarias, animales vivos, alimentos, bebidas y tabaco: **462-463**.\n",
    "- Comercio al por menor en establecimientos no especializados, productos diferentes de alimentos = **473**.\n",
    "- Comercio al por menor de equipos de informática, comunicaciones y otros enseres domésticos en establecimientos especializados = **474-475**.\n",
    "- Comercio al por mayor de artículos y enseres domésticos (incluidas prendas de vestir), maquinaria y equipo, comercio al por mayor especializado de otros productos y comercio no especializado = **464-465**.\n",
    "- Comercio de partes, piezas (autopartes) y accesorios (lujos) para vehículos automotores; comercio de motocicletas y de sus partes, piezas y accesorios = **453-454**.\n",
    "- Comercio al por menor de artículos culturales y de entretenimiento; y de otros productos en establecimientos especializados, incluido textiles = **476-477**."
   ]
  },
  {
   "cell_type": "code",
   "execution_count": 6,
   "id": "19a8fd29",
   "metadata": {},
   "outputs": [
    {
     "data": {
      "text/plain": [
       "┌───────────┬──────────────┐\n",
       "│ CORRELA_9 │ TOTAL_VENTA  │\n",
       "│  varchar  │    double    │\n",
       "├───────────┼──────────────┤\n",
       "│ 471-472   │ 1311630433.0 │\n",
       "│ 466-469   │ 1131737694.0 │\n",
       "│ 451       │ 1127794343.0 │\n",
       "│ 462-463   │ 1072320391.0 │\n",
       "│ 473       │  701005381.0 │\n",
       "│ 474 - 475 │  648857657.0 │\n",
       "│ 464-465   │  590153584.0 │\n",
       "│ 453-454   │  432357041.0 │\n",
       "│ 476 - 477 │  346791936.0 │\n",
       "└───────────┴──────────────┘"
      ]
     },
     "execution_count": 6,
     "metadata": {},
     "output_type": "execute_result"
    }
   ],
   "source": [
    "top_valle_commerce = rel.query(\n",
    "    virtual_table_name=\"top_valle_commerce\",\n",
    "    sql_query=\"\"\"SELECT CORRELA_9, SUM(VENTA) TOTAL_VENTA\n",
    "    FROM rel\n",
    "    WHERE DEPTO = 9\n",
    "    GROUP BY CORRELA_9\n",
    "    ORDER BY TOTAL_VENTA desc\n",
    "    LIMIT 10;\"\"\"\n",
    ")\n",
    "top_valle_commerce"
   ]
  }
 ],
 "metadata": {
  "kernelspec": {
   "display_name": "talento-tech",
   "language": "python",
   "name": "python3"
  },
  "language_info": {
   "codemirror_mode": {
    "name": "ipython",
    "version": 3
   },
   "file_extension": ".py",
   "mimetype": "text/x-python",
   "name": "python",
   "nbconvert_exporter": "python",
   "pygments_lexer": "ipython3",
   "version": "3.12.11"
  }
 },
 "nbformat": 4,
 "nbformat_minor": 5
}
