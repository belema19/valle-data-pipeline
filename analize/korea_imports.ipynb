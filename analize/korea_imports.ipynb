{
 "cells": [
  {
   "cell_type": "markdown",
   "id": "61d81149",
   "metadata": {},
   "source": [
    "# Korea Imports - Analysis"
   ]
  },
  {
   "cell_type": "markdown",
   "id": "62e0901e",
   "metadata": {},
   "source": [
    "## Dependencies"
   ]
  },
  {
   "cell_type": "code",
   "execution_count": 1,
   "id": "f02f07c6",
   "metadata": {},
   "outputs": [],
   "source": [
    "import os\n",
    "import sys\n",
    "import duckdb\n",
    "\n",
    "sys.path.append(\"../ingest\")\n",
    "import config # type: ignore"
   ]
  },
  {
   "cell_type": "markdown",
   "id": "1efd54f3",
   "metadata": {},
   "source": [
    "## Check for Files in Clean Data Directory"
   ]
  },
  {
   "cell_type": "code",
   "execution_count": 2,
   "id": "8f0402a5",
   "metadata": {},
   "outputs": [
    {
     "name": "stdout",
     "output_type": "stream",
     "text": [
      "['clean_koreaimports.parquet']\n"
     ]
    }
   ],
   "source": [
    "clean_data = \".\" + config.Local_Dir.Korea_Imports[\"clean\"]\n",
    "print(os.listdir(clean_data))"
   ]
  },
  {
   "cell_type": "markdown",
   "id": "186ffe34",
   "metadata": {},
   "source": [
    "## Duckdb Relation"
   ]
  },
  {
   "cell_type": "code",
   "execution_count": 3,
   "id": "e25a6ffc",
   "metadata": {},
   "outputs": [],
   "source": [
    "conn = duckdb.connect()\n",
    "rel = conn.from_parquet(clean_data + config.datasets[\"korea-imports\"][\"filename-clean\"])"
   ]
  },
  {
   "cell_type": "markdown",
   "id": "6bc9fa81",
   "metadata": {},
   "source": [
    "## Dataset Summary"
   ]
  },
  {
   "cell_type": "code",
   "execution_count": 4,
   "id": "1cce0bba",
   "metadata": {},
   "outputs": [
    {
     "data": {
      "text/plain": [
       "┌──────────────┬─────────────┬───────────┬───────────────┬───────────────┬────────────────────┬────────────────────┬───────────────────┬──────────────────┬────────────────────┬───────┬─────────────────┐\n",
       "│ column_name  │ column_type │    min    │      max      │ approx_unique │        avg         │        std         │        q25        │       q50        │        q75         │ count │ null_percentage │\n",
       "│   varchar    │   varchar   │  varchar  │    varchar    │     int64     │      varchar       │      varchar       │      varchar      │     varchar      │      varchar       │ int64 │  decimal(9,2)   │\n",
       "├──────────────┼─────────────┼───────────┼───────────────┼───────────────┼────────────────────┼────────────────────┼───────────────────┼──────────────────┼────────────────────┼───────┼─────────────────┤\n",
       "│ partnerDesc  │ VARCHAR     │ Argentina │ World         │             5 │ NULL               │ NULL               │ NULL              │ NULL             │ NULL               │  5483 │            0.00 │\n",
       "│ cmdCode      │ UTINYINT    │ 1         │ 99            │            96 │ 53.8923946744483   │ 27.580397262928262 │ 29                │ 56               │ 83                 │  5483 │            0.00 │\n",
       "│ primaryValue │ DOUBLE      │ 1.0       │ 86158418645.0 │          5498 │ 160464154.37333578 │ 1652005871.0512948 │ 31014.39236409435 │ 2098874.84074823 │ 36664160.491865955 │  5483 │            0.00 │\n",
       "└──────────────┴─────────────┴───────────┴───────────────┴───────────────┴────────────────────┴────────────────────┴───────────────────┴──────────────────┴────────────────────┴───────┴─────────────────┘"
      ]
     },
     "execution_count": 4,
     "metadata": {},
     "output_type": "execute_result"
    }
   ],
   "source": [
    "summary = rel.query(virtual_table_name=\"summary\", sql_query=\"SUMMARIZE rel\")\n",
    "summary"
   ]
  },
  {
   "cell_type": "markdown",
   "id": "64714660",
   "metadata": {},
   "source": [
    "## Top Korea Imports from World by Value (USD)\n",
    "\n",
    "- MINERAL FUELS, MINERAL OILS AND PRODUCTS OF THEIR DISTILLATION; BITUMINOUS SUBSTANCES; MINERAL WAXES = **27**.\n",
    "- ELECTRICAL MACHINERY AND EQUIPMENT AND PARTS THEREOF; SOUND RECORDERS AND REPRODUCERS; TELEVISION IMAGE AND SOUND RECORDERS AND REPRODUCERS, PARTS AND ACCESSORIES OF SUCH ARTICLES = **85**.\n",
    "- NUCLEAR REACTORS, BOILERS, MACHINERY AND MECHANICAL APPLIANCES; PARTS THEREOF = **84**.\n",
    "- VEHICLES; OTHER THAN RAILWAY OR TRAMWAY ROLLING STOCK, AND PARTS AND ACCESSORIES THEREOF = **87**.\n",
    "- INORGANIC CHEMICALS; ORGANIC AND INORGANIC COMPOUNDS OF PRECIOUS METALS; OF RARE EARTH METALS, OF RADIO-ACTIVE ELEMENTS AND OF ISOTOPES = **28**."
   ]
  },
  {
   "cell_type": "code",
   "execution_count": 5,
   "id": "debdddbe",
   "metadata": {},
   "outputs": [
    {
     "data": {
      "text/plain": [
       "┌─────────┬────────────────┐\n",
       "│ cmdCode │   totalValue   │\n",
       "│  uint8  │     double     │\n",
       "├─────────┼────────────────┤\n",
       "│      27 │ 171354533642.0 │\n",
       "│      85 │ 119478238633.0 │\n",
       "│      84 │  63072733926.0 │\n",
       "│      87 │  22134904666.0 │\n",
       "│      90 │  21958896343.0 │\n",
       "│      28 │  21516316779.0 │\n",
       "│      26 │  19707452376.0 │\n",
       "│      72 │  16471724419.0 │\n",
       "│      29 │  13572871176.0 │\n",
       "│      39 │  12710272397.0 │\n",
       "├─────────┴────────────────┤\n",
       "│ 10 rows        2 columns │\n",
       "└──────────────────────────┘"
      ]
     },
     "execution_count": 5,
     "metadata": {},
     "output_type": "execute_result"
    }
   ],
   "source": [
    "top_world_imports = rel.query(\n",
    "    virtual_table_name=\"top_world_imports\",\n",
    "    sql_query=\"\"\"SELECT cmdCode, SUM(primaryValue) totalValue\n",
    "    FROM rel\n",
    "    WHERE partnerDesc = 'World'\n",
    "    GROUP BY cmdCode\n",
    "    ORDER BY totalValue desc\n",
    "    LIMIT 10;\"\"\"\n",
    ")\n",
    "top_world_imports"
   ]
  },
  {
   "cell_type": "markdown",
   "id": "8fdc3677",
   "metadata": {},
   "source": [
    "## Top Korea Import from China and USA by Value (USD)\n",
    "\n",
    "- ELECTRICAL MACHINERY AND EQUIPMENT AND PARTS THEREOF; SOUND RECORDERS AND REPRODUCERS; TELEVISION IMAGE AND SOUND RECORDERS AND REPRODUCERS, PARTS AND ACCESSORIES OF SUCH ARTICLES = **85**.\n",
    "- MINERAL FUELS, MINERAL OILS AND PRODUCTS OF THEIR DISTILLATION; BITUMINOUS SUBSTANCES; MINERAL WAXES = **27**.\n",
    "- INORGANIC CHEMICALS; ORGANIC AND INORGANIC COMPOUNDS OF PRECIOUS METALS; OF RARE EARTH METALS, OF RADIO-ACTIVE ELEMENTS AND OF ISOTOPES = **28**.\n",
    "- NUCLEAR REACTORS, BOILERS, MACHINERY AND MECHANICAL APPLIANCES; PARTS THEREOF = **84**.\n",
    "- VEHICLES; OTHER THAN RAILWAY OR TRAMWAY ROLLING STOCK, AND PARTS AND ACCESSORIES THEREOF = **87**."
   ]
  },
  {
   "cell_type": "code",
   "execution_count": 6,
   "id": "55ccc492",
   "metadata": {},
   "outputs": [
    {
     "data": {
      "text/plain": [
       "┌─────────────┬─────────┬───────────────┐\n",
       "│ partnerDesc │ cmdCode │  totalValue   │\n",
       "│   varchar   │  uint8  │    double     │\n",
       "├─────────────┼─────────┼───────────────┤\n",
       "│ China       │      85 │ 50431712097.0 │\n",
       "│ USA         │      27 │ 22310370371.0 │\n",
       "│ China       │      84 │ 16001128335.0 │\n",
       "│ China       │      28 │ 13632775411.0 │\n",
       "│ USA         │      84 │  9605944597.0 │\n",
       "│ China       │      72 │  6350946542.0 │\n",
       "│ USA         │      85 │  6077486751.0 │\n",
       "│ China       │      29 │  4924468291.0 │\n",
       "│ China       │      39 │  4670551997.0 │\n",
       "│ USA         │      90 │  4632022958.0 │\n",
       "├─────────────┴─────────┴───────────────┤\n",
       "│ 10 rows                     3 columns │\n",
       "└───────────────────────────────────────┘"
      ]
     },
     "execution_count": 6,
     "metadata": {},
     "output_type": "execute_result"
    }
   ],
   "source": [
    "top_partners_imports = rel.query(\n",
    "    virtual_table_name=\"top_partners_imports\",\n",
    "    sql_query=\"\"\"SELECT partnerDesc, cmdCode, SUM(primaryValue) totalValue\n",
    "    FROM rel\n",
    "    WHERE partnerDesc IN ('China', 'USA')\n",
    "    GROUP BY partnerDesc, cmdCode\n",
    "    ORDER BY totalValue desc\n",
    "    LIMIT 10;\"\"\"\n",
    ")\n",
    "top_partners_imports"
   ]
  },
  {
   "cell_type": "markdown",
   "id": "297c2ffa",
   "metadata": {},
   "source": [
    "## Top Korea Imports form Iberoamerican Partners by Value (USD)\n",
    "\n",
    "- MINERAL FUELS, MINERAL OILS AND PRODUCTS OF THEIR DISTILLATION; BITUMINOUS SUBSTANCES; MINERAL WAXES = **27**."
   ]
  },
  {
   "cell_type": "code",
   "execution_count": 7,
   "id": "62347954",
   "metadata": {},
   "outputs": [
    {
     "data": {
      "text/plain": [
       "┌─────────────┬─────────┬──────────────┐\n",
       "│ partnerDesc │ cmdCode │  totalValue  │\n",
       "│   varchar   │  uint8  │    double    │\n",
       "├─────────────┼─────────┼──────────────┤\n",
       "│ Chile       │      28 │ 3180601162.0 │\n",
       "│ Mexico      │      27 │ 2412138484.0 │\n",
       "│ Chile       │      26 │ 1800014774.0 │\n",
       "│ Chile       │      74 │ 1640027047.0 │\n",
       "│ Brazil      │      27 │ 1577571834.0 │\n",
       "│ Mexico      │      26 │ 1319968529.0 │\n",
       "│ Brazil      │      26 │ 1119738049.0 │\n",
       "│ Mexico      │      84 │ 1099731904.0 │\n",
       "│ Brazil      │      10 │ 1074432811.0 │\n",
       "│ Argentina   │      10 │  905523992.0 │\n",
       "├─────────────┴─────────┴──────────────┤\n",
       "│ 10 rows                    3 columns │\n",
       "└──────────────────────────────────────┘"
      ]
     },
     "execution_count": 7,
     "metadata": {},
     "output_type": "execute_result"
    }
   ],
   "source": [
    "top_iberoamerican_imports = rel.query(\n",
    "    virtual_table_name=\"top_iberoamerican_imports\",\n",
    "    sql_query=\"\"\"SELECT partnerDesc, cmdCode, SUM(primaryValue) totalValue\n",
    "    FROM rel\n",
    "    WHERE partnerDesc NOT IN ('World', 'China', 'USA', 'Colombia')\n",
    "    GROUP BY partnerDesc, cmdCode\n",
    "    ORDER BY totalValue desc\n",
    "    LIMIT 10;\"\"\"\n",
    ")\n",
    "top_iberoamerican_imports"
   ]
  },
  {
   "cell_type": "markdown",
   "id": "5124e935",
   "metadata": {},
   "source": [
    "## Top Korea Imports from Colombia by Value (USD)"
   ]
  },
  {
   "cell_type": "code",
   "execution_count": 8,
   "id": "14bcb69b",
   "metadata": {},
   "outputs": [
    {
     "data": {
      "text/plain": [
       "┌─────────────┬─────────┬─────────────┐\n",
       "│ partnerDesc │ cmdCode │ totalValue  │\n",
       "│   varchar   │  uint8  │   double    │\n",
       "├─────────────┼─────────┼─────────────┤\n",
       "│ Colombia    │      27 │ 736307073.0 │\n",
       "│ Colombia    │       9 │ 153016607.0 │\n",
       "│ Colombia    │      72 │  52079540.0 │\n",
       "│ Colombia    │      74 │  33488166.0 │\n",
       "│ Colombia    │       6 │  28706954.0 │\n",
       "│ Colombia    │      21 │  13848453.0 │\n",
       "│ Colombia    │      38 │  12558231.0 │\n",
       "│ Colombia    │       8 │   6878028.0 │\n",
       "│ Colombia    │      26 │   5236512.0 │\n",
       "│ Colombia    │      76 │   5006008.0 │\n",
       "├─────────────┴─────────┴─────────────┤\n",
       "│ 10 rows                   3 columns │\n",
       "└─────────────────────────────────────┘"
      ]
     },
     "execution_count": 8,
     "metadata": {},
     "output_type": "execute_result"
    }
   ],
   "source": [
    "top_colombia_imports = rel.query(\n",
    "    virtual_table_name=\"top_colombia_imports\",\n",
    "    sql_query=\"\"\"SELECT partnerDesc, cmdCode, SUM(primaryValue) totalValue\n",
    "    FROM rel\n",
    "    WHERE partnerDesc = 'Colombia'\n",
    "    GROUP BY partnerDesc, cmdCode\n",
    "    ORDER BY totalValue desc\n",
    "    LIMIT 10;\"\"\"\n",
    ")\n",
    "top_colombia_imports"
   ]
  }
 ],
 "metadata": {
  "kernelspec": {
   "display_name": "talento-tech",
   "language": "python",
   "name": "python3"
  },
  "language_info": {
   "codemirror_mode": {
    "name": "ipython",
    "version": 3
   },
   "file_extension": ".py",
   "mimetype": "text/x-python",
   "name": "python",
   "nbconvert_exporter": "python",
   "pygments_lexer": "ipython3",
   "version": "3.12.11"
  }
 },
 "nbformat": 4,
 "nbformat_minor": 5
}
