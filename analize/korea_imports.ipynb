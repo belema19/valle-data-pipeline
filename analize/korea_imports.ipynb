{
 "cells": [
  {
   "cell_type": "markdown",
   "id": "61d81149",
   "metadata": {},
   "source": [
    "# Korea Imports - Analysis"
   ]
  },
  {
   "cell_type": "markdown",
   "id": "62e0901e",
   "metadata": {},
   "source": [
    "## Dependencies"
   ]
  },
  {
   "cell_type": "code",
   "execution_count": null,
   "id": "f02f07c6",
   "metadata": {},
   "outputs": [],
   "source": [
    "import os\n",
    "import sys\n",
    "import duckdb\n",
    "\n",
    "sys.path.append(\"../ingest\")\n",
    "import config # type: ignore"
   ]
  },
  {
   "cell_type": "markdown",
   "id": "1efd54f3",
   "metadata": {},
   "source": [
    "## Check for Files in Clean Data Directory"
   ]
  },
  {
   "cell_type": "code",
   "execution_count": null,
   "id": "8f0402a5",
   "metadata": {},
   "outputs": [],
   "source": [
    "clean_data = \".\" + config.Local_Dir.Korea_Imports[\"clean\"]\n",
    "print(os.listdir(clean_data))"
   ]
  },
  {
   "cell_type": "markdown",
   "id": "2a69b918",
   "metadata": {},
   "source": [
    "## Duckdb Database"
   ]
  },
  {
   "cell_type": "code",
   "execution_count": null,
   "id": "50383b85",
   "metadata": {},
   "outputs": [],
   "source": [
    "db_dir = config.Database.dir\n",
    "db_filename = config.Database.filename\n",
    "db_path = os.path.join(db_dir, db_filename)\n",
    "\n",
    "dataset = clean_data + config.datasets[\"korea-imports\"][\"filename-clean\"]\n",
    "\n",
    "if not os.path.exists(db_path):\n",
    "    os.makedirs(db_dir, exist_ok=True)\n",
    "\n",
    "ddb = duckdb.connect(database=db_path)"
   ]
  },
  {
   "cell_type": "code",
   "execution_count": 63,
   "id": "1cce0bba",
   "metadata": {},
   "outputs": [
    {
     "data": {
      "text/plain": [
       "<duckdb.duckdb.DuckDBPyConnection at 0x7c66ac686af0>"
      ]
     },
     "execution_count": 63,
     "metadata": {},
     "output_type": "execute_result"
    }
   ],
   "source": [
    "ddb.execute(\n",
    "    \"\"\"CREATE TABLE IF NOT EXISTS korea_imports\n",
    "    AS SELECT * FROM '../data/korea-imports/clean/clean_koreaimports.parquet'\"\"\"\n",
    ")"
   ]
  },
  {
   "cell_type": "code",
   "execution_count": 68,
   "id": "207a0f0b",
   "metadata": {},
   "outputs": [
    {
     "data": {
      "text/plain": [
       "duckdb.duckdb.DuckDBPyRelation"
      ]
     },
     "execution_count": 68,
     "metadata": {},
     "output_type": "execute_result"
    }
   ],
   "source": [
    "rel = ddb.sql(\n",
    "    \"\"\"SELECT cmdCode, SUM(primaryValue) total FROM korea_imports\n",
    "    WHERE partnerDesc = 'Colombia'\n",
    "    GROUP BY cmdCode\n",
    "    ORDER BY total desc;\"\"\"\n",
    ")\n",
    "type(rel)"
   ]
  },
  {
   "cell_type": "markdown",
   "id": "6bc9fa81",
   "metadata": {},
   "source": [
    "## Dataset Summary"
   ]
  },
  {
   "cell_type": "markdown",
   "id": "28162dc0",
   "metadata": {},
   "source": [
    "TODO:\n",
    "- Update rel objects to views\n",
    "- Relations are queries uppon a file or database!"
   ]
  },
  {
   "cell_type": "markdown",
   "id": "64714660",
   "metadata": {},
   "source": [
    "## Top Korea Imports from World by Value (USD)\n",
    "\n",
    "- MINERAL FUELS, MINERAL OILS AND PRODUCTS OF THEIR DISTILLATION; BITUMINOUS SUBSTANCES; MINERAL WAXES = **27**.\n",
    "- ELECTRICAL MACHINERY AND EQUIPMENT AND PARTS THEREOF; SOUND RECORDERS AND REPRODUCERS; TELEVISION IMAGE AND SOUND RECORDERS AND REPRODUCERS, PARTS AND ACCESSORIES OF SUCH ARTICLES = **85**.\n",
    "- NUCLEAR REACTORS, BOILERS, MACHINERY AND MECHANICAL APPLIANCES; PARTS THEREOF = **84**.\n",
    "- VEHICLES; OTHER THAN RAILWAY OR TRAMWAY ROLLING STOCK, AND PARTS AND ACCESSORIES THEREOF = **87**.\n",
    "- OPTICAL, PHOTOGRAPHIC, CINEMATOGRAPHIC, MEASURING, CHECKING, MEDICAL OR SURGICAL INSTRUMENTS AND APPARATUS; PARTS AND ACCESSORIES = **90**.\n",
    "- INORGANIC CHEMICALS; ORGANIC AND INORGANIC COMPOUNDS OF PRECIOUS METALS; OF RARE EARTH METALS, OF RADIO-ACTIVE ELEMENTS AND OF ISOTOPES = **28**.\n",
    "- ORES, SLAG AND ASH = **26**.\n",
    "- IRON AND STEEL = **72**.\n",
    "- ORGANIC CHEMICALS = **29**.\n",
    "- PLASTICS AND ARTICLES THEREOF = **39**."
   ]
  },
  {
   "cell_type": "code",
   "execution_count": null,
   "id": "debdddbe",
   "metadata": {},
   "outputs": [],
   "source": [
    "rel.query(\n",
    "    virtual_table_name=\"top_world_imports\",\n",
    "    sql_query=\"\"\"SELECT cmdCode, SUM(primaryValue) totalValue\n",
    "    FROM rel\n",
    "    WHERE partnerDesc = 'World'\n",
    "    GROUP BY cmdCode\n",
    "    ORDER BY totalValue desc\n",
    "    LIMIT 10;\"\"\"\n",
    ")"
   ]
  },
  {
   "cell_type": "markdown",
   "id": "8fdc3677",
   "metadata": {},
   "source": [
    "## Top Korea Import from China and USA by Value (USD)\n",
    "\n",
    "- ELECTRICAL MACHINERY AND EQUIPMENT AND PARTS THEREOF; SOUND RECORDERS AND REPRODUCERS; TELEVISION IMAGE AND SOUND RECORDERS AND REPRODUCERS, PARTS AND ACCESSORIES OF SUCH ARTICLES = **85**.\n",
    "- NUCLEAR REACTORS, BOILERS, MACHINERY AND MECHANICAL APPLIANCES; PARTS THEREOF = **84**.\n",
    "- MINERAL FUELS, MINERAL OILS AND PRODUCTS OF THEIR DISTILLATION; BITUMINOUS SUBSTANCES; MINERAL WAXES = **27**.\n",
    "- INORGANIC CHEMICALS; ORGANIC AND INORGANIC COMPOUNDS OF PRECIOUS METALS; OF RARE EARTH METALS, OF RADIO-ACTIVE ELEMENTS AND OF ISOTOPES = **28**.\n",
    "- OPTICAL, PHOTOGRAPHIC, CINEMATOGRAPHIC, MEASURING, CHECKING, MEDICAL OR SURGICAL INSTRUMENTS AND APPARATUS; PARTS AND ACCESSORIES = **90**.\n",
    "- VEHICLES; OTHER THAN RAILWAY OR TRAMWAY ROLLING STOCK, AND PARTS AND ACCESSORIES THEREOF = **87**.\n",
    "- IRON AND STEEL = **72**.\n",
    "- ORGANIC CHEMICALS = **29**.\n",
    "- PLASTICS AND ARTICLES THEREOF = **39**.\n",
    "- IRON OR STEEL ARTICLES = **73**."
   ]
  },
  {
   "cell_type": "code",
   "execution_count": null,
   "id": "55ccc492",
   "metadata": {},
   "outputs": [],
   "source": [
    "rel.query(\n",
    "    virtual_table_name=\"top_partners_imports\",\n",
    "    sql_query=\"\"\"SELECT cmdCode, SUM(primaryValue) totalValue\n",
    "    FROM rel\n",
    "    WHERE partnerDesc IN ('China', 'USA')\n",
    "    GROUP BY cmdCode\n",
    "    ORDER BY totalValue desc\n",
    "    LIMIT 10;\"\"\"\n",
    ")"
   ]
  },
  {
   "cell_type": "markdown",
   "id": "297c2ffa",
   "metadata": {},
   "source": [
    "## Top Korea Imports form Iberoamerican Partners by Value (USD)\n",
    "\n",
    "- ORES, SLAG AND ASH = **26**.\n",
    "- MINERAL FUELS, MINERAL OILS AND PRODUCTS OF THEIR DISTILLATION; BITUMINOUS SUBSTANCES; MINERAL WAXES = **27**.\n",
    "- INORGANIC CHEMICALS; ORGANIC AND INORGANIC COMPOUNDS OF PRECIOUS METALS; OF RARE EARTH METALS, OF RADIO-ACTIVE ELEMENTS AND OF ISOTOPES = **28**.\n",
    "- CEREALS = **10**.\n",
    "- COPPER AND ARTICLES THEREOF = **74**.\n",
    "- NUCLEAR REACTORS, BOILERS, MACHINERY AND MECHANICAL APPLIANCES; PARTS THEREOF = **84**.\n",
    "- VEHICLES; OTHER THAN RAILWAY OR TRAMWAY ROLLING STOCK, AND PARTS AND ACCESSORIES THEREOF = **87**.\n",
    "- FOOD INDUSTRIES, RESIDUES AND WASTES THEREOF; PREPARED ANIMAL FODDER = **23**.\n",
    "- ELECTRICAL MACHINERY AND EQUIPMENT AND PARTS THEREOF; SOUND RECORDERS AND REPRODUCERS; TELEVISION IMAGE AND SOUND RECORDERS AND REPRODUCERS, PARTS AND ACCESSORIES OF SUCH ARTICLES = **85**.\n",
    "- MEAT AND EDIBLE MEAT OFFAL = **02**.\n",
    "\n"
   ]
  },
  {
   "cell_type": "code",
   "execution_count": null,
   "id": "62347954",
   "metadata": {},
   "outputs": [],
   "source": [
    "rel.query(\n",
    "    virtual_table_name=\"top_iberoamerican_imports\",\n",
    "    sql_query=\"\"\"SELECT cmdCode, SUM(primaryValue) totalValue\n",
    "    FROM rel\n",
    "    WHERE partnerDesc NOT IN ('World', 'China', 'USA', 'Colombia')\n",
    "    GROUP BY cmdCode\n",
    "    ORDER BY totalValue desc\n",
    "    LIMIT 10;\"\"\"\n",
    ")"
   ]
  },
  {
   "cell_type": "markdown",
   "id": "5124e935",
   "metadata": {},
   "source": [
    "## Top Korea Imports from Colombia by Value (USD)\n",
    "\n",
    "- MINERAL FUELS, MINERAL OILS AND PRODUCTS OF THEIR DISTILLATION; BITUMINOUS SUBSTANCES; MINERAL WAXES = **27**.\n",
    "- COFFEE, TEA, MATE AND SPICES = **09**.\n",
    "- IRON AND STEEL = **72**.\n",
    "- COPPER AND ARTICLES THEREOF = **74**.\n",
    "- TREES AND OTHER PLANTS, LIVE; BULBS, ROOTS AND THE LIKE; CUT FLOWERS AND ORNAMENTAL FOLIAGE = **06**.\n",
    "- MISCELLANEOUS EDIBLE PREPARATIONS = **21**.\n",
    "- CHEMICAL PRODUCTS N.E.C. = **38**.\n",
    "- FRUIT AND NUTS, EDIBLE; PEEL OF CITRUS FRUIT OR MELONS = **08**.\n",
    "- ORES, SLAG AND ASH = **26**.\n",
    "- ALUMINIUM AND ARTICLES THEREOF = **76**."
   ]
  },
  {
   "cell_type": "code",
   "execution_count": null,
   "id": "14bcb69b",
   "metadata": {},
   "outputs": [],
   "source": [
    "rel.query(\n",
    "    virtual_table_name=\"top_colombia_imports\",\n",
    "    sql_query=\"\"\"SELECT cmdCode, SUM(primaryValue) totalValue\n",
    "    FROM rel\n",
    "    WHERE partnerDesc = 'Colombia'\n",
    "    GROUP BY cmdCode\n",
    "    ORDER BY totalValue desc\n",
    "    LIMIT 10;\"\"\"\n",
    ")"
   ]
  },
  {
   "cell_type": "code",
   "execution_count": null,
   "id": "2f16f8c6",
   "metadata": {},
   "outputs": [],
   "source": [
    "conn.sql(\"show all tables\")"
   ]
  },
  {
   "cell_type": "code",
   "execution_count": null,
   "id": "a5612a1a",
   "metadata": {},
   "outputs": [],
   "source": [
    "ddb.execute(\"CREATE TABLE test AS SELECT * FROM rel;\")"
   ]
  }
 ],
 "metadata": {
  "kernelspec": {
   "display_name": "talento-tech",
   "language": "python",
   "name": "python3"
  },
  "language_info": {
   "codemirror_mode": {
    "name": "ipython",
    "version": 3
   },
   "file_extension": ".py",
   "mimetype": "text/x-python",
   "name": "python",
   "nbconvert_exporter": "python",
   "pygments_lexer": "ipython3",
   "version": "3.12.11"
  }
 },
 "nbformat": 4,
 "nbformat_minor": 5
}
