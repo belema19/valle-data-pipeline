{
 "cells": [
  {
   "cell_type": "markdown",
   "id": "61d81149",
   "metadata": {},
   "source": [
    "# Korea Imports - Analysis"
   ]
  },
  {
   "cell_type": "markdown",
   "id": "62e0901e",
   "metadata": {},
   "source": [
    "## Dependencies"
   ]
  },
  {
   "cell_type": "code",
   "execution_count": 4,
   "id": "f02f07c6",
   "metadata": {},
   "outputs": [],
   "source": [
    "import os\n",
    "import sys\n",
    "import duckdb\n",
    "\n",
    "sys.path.append(\"../ingest\")\n",
    "import config # type: ignore"
   ]
  },
  {
   "cell_type": "markdown",
   "id": "1efd54f3",
   "metadata": {},
   "source": [
    "## Check for Files in Clean Data Directory"
   ]
  },
  {
   "cell_type": "code",
   "execution_count": 5,
   "id": "8f0402a5",
   "metadata": {},
   "outputs": [
    {
     "name": "stdout",
     "output_type": "stream",
     "text": [
      "['clean_koreaimports.parquet']\n"
     ]
    }
   ],
   "source": [
    "clean_data = \".\" + config.Local_Dir.Korea_Imports[\"clean\"]\n",
    "print(os.listdir(clean_data))"
   ]
  },
  {
   "cell_type": "markdown",
   "id": "186ffe34",
   "metadata": {},
   "source": [
    "## Duckdb Relation"
   ]
  },
  {
   "cell_type": "code",
   "execution_count": null,
   "id": "e25a6ffc",
   "metadata": {},
   "outputs": [],
   "source": [
    "conn = duckdb.connect()\n",
    "rel = conn.from_parquet(clean_data + config.datasets[\"korea-imports\"][\"filename-clean\"])"
   ]
  },
  {
   "cell_type": "markdown",
   "id": "c38a1ff3",
   "metadata": {},
   "source": [
    "TODO:\n",
    "- [ ] delete cmdDesc column.\n",
    "- [ ] pad left zero all registries where cmdCode length < 10 (this means the POSAR chapter < 10)."
   ]
  },
  {
   "cell_type": "markdown",
   "id": "6bc9fa81",
   "metadata": {},
   "source": [
    "## Dataset Summary"
   ]
  },
  {
   "cell_type": "code",
   "execution_count": 7,
   "id": "1cce0bba",
   "metadata": {},
   "outputs": [
    {
     "data": {
      "text/plain": [
       "┌──────────────┬─────────────┬─────────────────────────────────────────────────────────────────────────────────────────────────────────────────────────────────────────────────────────────────────────────────────┬────────────────────────────────────────────────────────┬───────────────┬────────────────────┬────────────────────┬────────────────────┬────────────────────┬───────────────────┬───────┬─────────────────┐\n",
       "│ column_name  │ column_type │                                                                                         min                                                                                         │                          max                           │ approx_unique │        avg         │        std         │        q25         │        q50         │        q75        │ count │ null_percentage │\n",
       "│   varchar    │   varchar   │                                                                                       varchar                                                                                       │                        varchar                         │     int64     │      varchar       │      varchar       │      varchar       │      varchar       │      varchar      │ int64 │  decimal(9,2)   │\n",
       "├──────────────┼─────────────┼─────────────────────────────────────────────────────────────────────────────────────────────────────────────────────────────────────────────────────────────────────────────────────┼────────────────────────────────────────────────────────┼───────────────┼────────────────────┼────────────────────┼────────────────────┼────────────────────┼───────────────────┼───────┼─────────────────┤\n",
       "│ partnerDesc  │ VARCHAR     │ Argentina                                                                                                                                                                           │ World                                                  │             5 │ NULL               │ NULL               │ NULL               │ NULL               │ NULL              │  5486 │            0.00 │\n",
       "│ cmdCode      │ USMALLINT   │ 101                                                                                                                                                                                 │ 9999                                                   │          1268 │ 5402.338497994896  │ 2761.303129618129  │ 2916               │ 5596               │ 8268              │  5486 │            0.00 │\n",
       "│ cmdDesc      │ VARCHAR     │ Abrasive powder or grain; natural or artificial, on a base of textile material, of paper, paperboard or of other material, whether or not cut to shape or sewn or otherwise made up │ Zirconium; articles thereof, including waste and scrap │          1198 │ NULL               │ NULL               │ NULL               │ NULL               │ NULL              │  5486 │            0.00 │\n",
       "│ primaryValue │ DOUBLE      │ 1.0                                                                                                                                                                                 │ 86158418645.0                                          │          5498 │ 160376405.11830112 │ 1651558291.3552089 │ 30987.189685314686 │ 2091347.4757315246 │ 36619865.66169086 │  5486 │            0.00 │\n",
       "└──────────────┴─────────────┴─────────────────────────────────────────────────────────────────────────────────────────────────────────────────────────────────────────────────────────────────────────────────────┴────────────────────────────────────────────────────────┴───────────────┴────────────────────┴────────────────────┴────────────────────┴────────────────────┴───────────────────┴───────┴─────────────────┘"
      ]
     },
     "execution_count": 7,
     "metadata": {},
     "output_type": "execute_result"
    }
   ],
   "source": [
    "summary = rel.query(virtual_table_name=\"summary\", sql_query=\"SUMMARIZE rel\")\n",
    "summary"
   ]
  },
  {
   "cell_type": "markdown",
   "id": "64714660",
   "metadata": {},
   "source": [
    "## Top Korea Imports from World by Value (USD)\n",
    "\n",
    "- MINERAL FUELS, MINERAL OILS AND PRODUCTS OF THEIR DISTILLATION; BITUMINOUS SUBSTANCES; MINERAL WAXES = **27**.\n",
    "- ELECTRICAL MACHINERY AND EQUIPMENT AND PARTS THEREOF; SOUND RECORDERS AND REPRODUCERS; TELEVISION IMAGE AND SOUND RECORDERS AND REPRODUCERS, PARTS AND ACCESSORIES OF SUCH ARTICLES = **85**.\n",
    "- NUCLEAR REACTORS, BOILERS, MACHINERY AND MECHANICAL APPLIANCES; PARTS THEREOF = **84**.\n",
    "- VEHICLES; OTHER THAN RAILWAY OR TRAMWAY ROLLING STOCK, AND PARTS AND ACCESSORIES THEREOF = **87**.\n",
    "- INORGANIC CHEMICALS; ORGANIC AND INORGANIC COMPOUNDS OF PRECIOUS METALS; OF RARE EARTH METALS, OF RADIO-ACTIVE ELEMENTS AND OF ISOTOPES = **28**."
   ]
  },
  {
   "cell_type": "code",
   "execution_count": 8,
   "id": "debdddbe",
   "metadata": {},
   "outputs": [
    {
     "data": {
      "text/plain": [
       "┌─────────┬───────────────┐\n",
       "│ cmdCode │  totalValue   │\n",
       "│ uint16  │    double     │\n",
       "├─────────┼───────────────┤\n",
       "│    2709 │ 86158418645.0 │\n",
       "│    8542 │ 51685861319.0 │\n",
       "│    2711 │ 41178396917.0 │\n",
       "│    2710 │ 22926029085.0 │\n",
       "│    2701 │ 20072226492.0 │\n",
       "│    8486 │ 17336366723.0 │\n",
       "│    8703 │ 14508706889.0 │\n",
       "│    8517 │ 10954523971.0 │\n",
       "│    2825 │ 10555594389.0 │\n",
       "│    8507 │  8830420574.0 │\n",
       "├─────────┴───────────────┤\n",
       "│ 10 rows       2 columns │\n",
       "└─────────────────────────┘"
      ]
     },
     "execution_count": 8,
     "metadata": {},
     "output_type": "execute_result"
    }
   ],
   "source": [
    "top_world_imports = rel.query(\n",
    "    virtual_table_name=\"top_world_imports\",\n",
    "    sql_query=\"\"\"SELECT cmdCode, SUM(primaryValue) totalValue\n",
    "    FROM rel\n",
    "    WHERE partnerDesc = 'World'\n",
    "    GROUP BY cmdCode\n",
    "    ORDER BY totalValue desc\n",
    "    LIMIT 10;\"\"\"\n",
    ")\n",
    "top_world_imports"
   ]
  },
  {
   "cell_type": "markdown",
   "id": "8fdc3677",
   "metadata": {},
   "source": [
    "## Top Korea Import from Selected Partners by Value (USD)"
   ]
  },
  {
   "cell_type": "code",
   "execution_count": 11,
   "id": "55ccc492",
   "metadata": {},
   "outputs": [
    {
     "data": {
      "text/plain": [
       "┌─────────────┬─────────┬───────────────┐\n",
       "│ partnerDesc │ cmdCode │  totalValue   │\n",
       "│   varchar   │ uint16  │    double     │\n",
       "├─────────────┼─────────┼───────────────┤\n",
       "│ China       │    8542 │ 16816793018.0 │\n",
       "│ USA         │    2709 │ 12316950059.0 │\n",
       "│ China       │    2825 │  9033981475.0 │\n",
       "│ USA         │    2711 │  8603559588.0 │\n",
       "│ China       │    8507 │  8336929246.0 │\n",
       "│ China       │    8517 │  5664000491.0 │\n",
       "│ China       │    8471 │  4338042307.0 │\n",
       "│ USA         │    8486 │  3882385885.0 │\n",
       "│ USA         │    8703 │  3142367114.0 │\n",
       "│ China       │    2841 │  2516297865.0 │\n",
       "├─────────────┴─────────┴───────────────┤\n",
       "│ 10 rows                     3 columns │\n",
       "└───────────────────────────────────────┘"
      ]
     },
     "execution_count": 11,
     "metadata": {},
     "output_type": "execute_result"
    }
   ],
   "source": [
    "top_partners_imports = rel.query(\n",
    "    virtual_table_name=\"top_partners_imports\",\n",
    "    sql_query=\"\"\"SELECT partnerDesc, cmdCode, SUM(primaryValue) totalValue\n",
    "    FROM rel\n",
    "    WHERE partnerDesc <> 'World'\n",
    "    GROUP BY partnerDesc, cmdCode\n",
    "    ORDER BY totalValue desc\n",
    "    LIMIT 10;\"\"\"\n",
    ")\n",
    "top_partners_imports"
   ]
  },
  {
   "cell_type": "markdown",
   "id": "5124e935",
   "metadata": {},
   "source": [
    "## Top Korea Imports From Colombia by Value (USD)"
   ]
  },
  {
   "cell_type": "code",
   "execution_count": 14,
   "id": "14bcb69b",
   "metadata": {},
   "outputs": [
    {
     "data": {
      "text/plain": [
       "┌─────────────┬─────────┬─────────────┐\n",
       "│ partnerDesc │ cmdCode │ totalValue  │\n",
       "│   varchar   │ uint16  │   double    │\n",
       "├─────────────┼─────────┼─────────────┤\n",
       "│ Colombia    │    2701 │ 736306973.0 │\n",
       "│ Colombia    │     901 │ 153016607.0 │\n",
       "│ Colombia    │    7202 │  52079479.0 │\n",
       "│ Colombia    │    7404 │  33488166.0 │\n",
       "│ Colombia    │     603 │  27355414.0 │\n",
       "│ Colombia    │    2101 │  13060543.0 │\n",
       "│ Colombia    │    3808 │  12556460.0 │\n",
       "│ Colombia    │     803 │   6569164.0 │\n",
       "│ Colombia    │    7602 │   5004662.0 │\n",
       "│ Colombia    │    2607 │   4807759.0 │\n",
       "├─────────────┴─────────┴─────────────┤\n",
       "│ 10 rows                   3 columns │\n",
       "└─────────────────────────────────────┘"
      ]
     },
     "execution_count": 14,
     "metadata": {},
     "output_type": "execute_result"
    }
   ],
   "source": [
    "top_colombia_imports = rel.query(\n",
    "    virtual_table_name=\"top_colombia_imports\",\n",
    "    sql_query=\"\"\"SELECT partnerDesc, cmdCode, SUM(primaryValue) totalValue\n",
    "    FROM rel\n",
    "    WHERE partnerDesc = 'Colombia'\n",
    "    GROUP BY partnerDesc, cmdCode\n",
    "    ORDER BY totalValue desc\n",
    "    LIMIT 10;\"\"\"\n",
    ")\n",
    "top_colombia_imports"
   ]
  }
 ],
 "metadata": {
  "kernelspec": {
   "display_name": "talento-tech",
   "language": "python",
   "name": "python3"
  },
  "language_info": {
   "codemirror_mode": {
    "name": "ipython",
    "version": 3
   },
   "file_extension": ".py",
   "mimetype": "text/x-python",
   "name": "python",
   "nbconvert_exporter": "python",
   "pygments_lexer": "ipython3",
   "version": "3.12.11"
  }
 },
 "nbformat": 4,
 "nbformat_minor": 5
}
