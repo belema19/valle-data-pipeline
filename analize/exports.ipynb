{
 "cells": [
  {
   "cell_type": "markdown",
   "id": "339423af",
   "metadata": {},
   "source": [
    "# Valle del Cauca Exports - Analysis"
   ]
  },
  {
   "cell_type": "markdown",
   "id": "1f35c8ef",
   "metadata": {},
   "source": [
    "## Dependencies"
   ]
  },
  {
   "cell_type": "code",
   "execution_count": null,
   "id": "39843dbd",
   "metadata": {},
   "outputs": [],
   "source": [
    "import os\n",
    "import sys\n",
    "import duckdb\n",
    "\n",
    "sys.path.append(\"../ingest\")\n",
    "import config # type: ignore"
   ]
  },
  {
   "cell_type": "markdown",
   "id": "934474af",
   "metadata": {},
   "source": [
    "## Check for Files in Clean Data Directory"
   ]
  },
  {
   "cell_type": "code",
   "execution_count": 2,
   "id": "75489b49",
   "metadata": {},
   "outputs": [
    {
     "name": "stdout",
     "output_type": "stream",
     "text": [
      "['clean_exports.parquet']\n"
     ]
    }
   ],
   "source": [
    "clean_data = \".\" + config.Local_Dir.Exports[\"clean\"]\n",
    "print(os.listdir(clean_data))"
   ]
  },
  {
   "cell_type": "markdown",
   "id": "68fb2a5b",
   "metadata": {},
   "source": [
    "## Duckdb Relation"
   ]
  },
  {
   "cell_type": "code",
   "execution_count": 3,
   "id": "cd530006",
   "metadata": {},
   "outputs": [],
   "source": [
    "conn = duckdb.connect()\n",
    "rel = conn.from_parquet(clean_data + config.datasets[\"exports\"][\"filename-clean\"])"
   ]
  },
  {
   "cell_type": "markdown",
   "id": "9fcde05e",
   "metadata": {},
   "source": [
    "TODO:\n",
    "- [ ] delete all registries where MODAD != 198.\n",
    "- [ ] pad left zero all registries where POSAR length < 10 (this means the POSAR chapter < 10).\n",
    "- [ ] delete non existing DPTO1 = 0.\n",
    "- [ ] delete all columns except: COD_PAI4, DPTO1, POSAR, FOBPES, AGRENA."
   ]
  },
  {
   "cell_type": "markdown",
   "id": "20963dee",
   "metadata": {},
   "source": [
    "## Dataset Summary"
   ]
  },
  {
   "cell_type": "code",
   "execution_count": 4,
   "id": "3ba4564f",
   "metadata": {},
   "outputs": [
    {
     "data": {
      "text/plain": [
       "┌─────────────┬─────────────┬───────────┬──────────────────┬───────────────┬────────────────────┬────────────────────┬────────────────────┬────────────────────┬────────────────────┬────────┬─────────────────┐\n",
       "│ column_name │ column_type │    min    │       max        │ approx_unique │        avg         │        std         │        q25         │        q50         │        q75         │ count  │ null_percentage │\n",
       "│   varchar   │   varchar   │  varchar  │     varchar      │     int64     │      varchar       │      varchar       │      varchar       │      varchar       │      varchar       │ int64  │  decimal(9,2)   │\n",
       "├─────────────┼─────────────┼───────────┼──────────────────┼───────────────┼────────────────────┼────────────────────┼────────────────────┼────────────────────┼────────────────────┼────────┼─────────────────┤\n",
       "│ FECH        │ USMALLINT   │ 2301      │ 2312             │            12 │ 2306.6872045242226 │ 3.396179255833571  │ 2304               │ 2307               │ 2310               │ 459217 │            0.00 │\n",
       "│ ADUA        │ UTINYINT    │ 1         │ 90               │            20 │ 37.44139698660982  │ 28.165069861702086 │ 3                  │ 37                 │ 48                 │ 459217 │            0.00 │\n",
       "│ COD_PAI4    │ VARCHAR     │ ABW       │ ZWE              │           206 │ NULL               │ NULL               │ NULL               │ NULL               │ NULL               │ 459217 │            0.00 │\n",
       "│ COD_SAL     │ VARCHAR     │ ADZ       │ TRB              │            24 │ NULL               │ NULL               │ NULL               │ NULL               │ NULL               │ 459217 │            0.00 │\n",
       "│ DPTO2       │ UTINYINT    │ 0         │ 97               │            35 │ 22.6948632128166   │ 23.56306107878578  │ 6                  │ 11                 │ 25                 │ 459217 │            0.00 │\n",
       "│ VIA         │ UTINYINT    │ 0         │ 9                │            11 │ 4.869351526620313  │ 3.6216783860727957 │ 1                  │ 4                  │ 9                  │ 459217 │            0.00 │\n",
       "│ MODAD       │ USMALLINT   │ 2         │ 403              │             9 │ 190.53627370066874 │ 37.35427896658016  │ 198                │ 198                │ 198                │ 459217 │            0.00 │\n",
       "│ POSAR       │ UBIGINT     │ 101210000 │ 9807200000       │          4395 │ 4470211375.534299  │ 2748905669.6723843 │ 2038914894         │ 3925384943         │ 6242471252         │ 459217 │            0.00 │\n",
       "│ DPTO1       │ UTINYINT    │ 0         │ 99               │            37 │ 22.472430245395966 │ 23.569357255012083 │ 6                  │ 11                 │ 25                 │ 459217 │            0.00 │\n",
       "│ CANTI       │ VARCHAR     │ 0,01      │ 99999,80         │        105208 │ NULL               │ NULL               │ NULL               │ NULL               │ NULL               │ 459217 │            0.00 │\n",
       "│ FOBDOL      │ DOUBLE      │ 0.0       │ 3424532426.0     │        205831 │ 980207.484280852   │ 22703939.938548964 │ 4678.892531261705  │ 31317.621659043925 │ 194864.91867261793 │ 459217 │            0.00 │\n",
       "│ FOBPES      │ DOUBLE      │ 388.0     │ 14276853703702.0 │        418106 │ 4203408893.123338  │ 97006989976.7865   │ 14006463.107041597 │ 115336341.22614591 │ 810616174.1270114  │ 459217 │            0.00 │\n",
       "│ AGRENA      │ DOUBLE      │ 0.0       │ 701903938.0      │         58811 │ 239969.86958453193 │ 5270079.297690991  │ 0.0                │ 0.0                │ 0.0                │ 459217 │            0.00 │\n",
       "│ FLETES      │ DOUBLE      │ 0.0       │ 109164218.0      │         32054 │ 7097.855281925538  │ 284289.15248629433 │ 0.0                │ 0.0                │ 300.1334387690368  │ 459217 │            0.00 │\n",
       "│ SEGURO      │ DOUBLE      │ 0.0       │ 10971037.0       │          6131 │ 152.2963914663438  │ 18478.659838290012 │ 0.0                │ 0.0                │ 0.0                │ 459217 │            0.00 │\n",
       "│ OTROSG      │ DOUBLE      │ 0.0       │ 83963863.0       │          9861 │ 975.3699144413208  │ 186734.57169472525 │ 0.0                │ 0.0                │ 0.0                │ 459217 │            0.00 │\n",
       "├─────────────┴─────────────┴───────────┴──────────────────┴───────────────┴────────────────────┴────────────────────┴────────────────────┴────────────────────┴────────────────────┴────────┴─────────────────┤\n",
       "│ 16 rows                                                                                                                                                                                           12 columns │\n",
       "└──────────────────────────────────────────────────────────────────────────────────────────────────────────────────────────────────────────────────────────────────────────────────────────────────────────────┘"
      ]
     },
     "execution_count": 4,
     "metadata": {},
     "output_type": "execute_result"
    }
   ],
   "source": [
    "summary = rel.query(virtual_table_name=\"summary\", sql_query=\"SUMMARIZE rel\")\n",
    "summary"
   ]
  },
  {
   "cell_type": "markdown",
   "id": "d0f3d3db",
   "metadata": {},
   "source": [
    "## Top Departments by Exports Value (COP)\n",
    "\n",
    "- Antioquia = 5.\n",
    "- Cesar = 20.\n",
    "- Bogotá = 11.\n",
    "- Guajira = 44.\n",
    "- Cundinamarca = 45.\n",
    "- Valle del Cauca = 76.\n",
    "- Bolivar = 13.\n",
    "- Atlantico = 8.\n",
    "- Santander = 68.\n",
    "- Casanare = 85."
   ]
  },
  {
   "cell_type": "code",
   "execution_count": 26,
   "id": "0d9cafe4",
   "metadata": {},
   "outputs": [
    {
     "data": {
      "text/plain": [
       "┌───────┬───────────────────┐\n",
       "│ DPTO1 │   TOTAL_FOBPES    │\n",
       "│ uint8 │      double       │\n",
       "├───────┼───────────────────┤\n",
       "│     5 │ 274317387795845.0 │\n",
       "│    20 │ 162419056332081.0 │\n",
       "│    11 │ 137139376881722.0 │\n",
       "│    44 │  97596421873233.0 │\n",
       "│    25 │  88872208360794.0 │\n",
       "│    76 │  81881358057711.0 │\n",
       "│    13 │  70931585086010.0 │\n",
       "│     8 │  58637885734123.0 │\n",
       "│    68 │  45422345286743.0 │\n",
       "│    85 │  42147727224518.0 │\n",
       "├───────┴───────────────────┤\n",
       "│ 10 rows         2 columns │\n",
       "└───────────────────────────┘"
      ]
     },
     "execution_count": 26,
     "metadata": {},
     "output_type": "execute_result"
    }
   ],
   "source": [
    "top_dptos = rel.query(\n",
    "    virtual_table_name=\"top_dptos\",\n",
    "    sql_query=\"\"\"SELECT DPTO1, SUM(FOBPES) TOTAL_FOBPES\n",
    "    FROM rel\n",
    "    WHERE MODAD = 198\n",
    "    GROUP BY DPTO1\n",
    "    HAVING DPTO1 <> 0\n",
    "    ORDER BY TOTAL_FOBPES desc\n",
    "    LIMIT 10;\n",
    "    \"\"\"\n",
    ")\n",
    "top_dptos"
   ]
  },
  {
   "cell_type": "markdown",
   "id": "a3e8a2db",
   "metadata": {},
   "source": [
    "## Top Valle del Cauca Exported Goods by Value (COP)\n",
    "- SUGARS AND SUGAR CONFECTIONERY = **17**.\n",
    "- ELECTRICAL MACHINERY AND EQUIPMENT AND PARTS THEREOF; SOUND RECORDERS AND REPRODUCERS; TELEVISION IMAGE AND SOUND RECORDERS AND REPRODUCERS, PARTS AND ACCESSORIES OF SUCH ARTICLES = **85**.\n",
    "- PHARMACEUTICAL PRODUCTS = **30**.\n",
    "- ANIMAL OR VEGETABLE FATS AND OILS AND THEIR CLEAVAGE PRODUCTS; PREPARED ANIMAL FATS; ANIMAL OR VEGETABLE WAXES = **15**.\n",
    "- RUBBER AND ARTICLES THEREOF = **40**.\n",
    "- ORGANIC CHEMICALS = **29**.\n",
    "- SOAP, ORGANIC SURFACE-ACTIVE AGENTS; WASHING, LUBRICATING, POLISHING OR SCOURING PREPARATIONS; ARTIFICIAL OR PREPARED WAXES, CANDLES AND SIMILAR ARTICLES, MODELLING PASTES, DENTAL WAXES AND DENTAL PREPARATIONS WITH A BASIS OF PLASTER = **34**."
   ]
  },
  {
   "cell_type": "code",
   "execution_count": 25,
   "id": "9df9ba42",
   "metadata": {},
   "outputs": [
    {
     "data": {
      "text/plain": [
       "┌────────────┬─────────────────┐\n",
       "│   POSAR    │  TOTAL_FOBPES   │\n",
       "│   uint64   │     double      │\n",
       "├────────────┼─────────────────┤\n",
       "│ 1701999000 │ 5327639389373.0 │\n",
       "│ 1704901000 │ 4488386164723.0 │\n",
       "│ 8507100000 │ 3616734764075.0 │\n",
       "│ 3004902900 │ 2879040231207.0 │\n",
       "│ 1507909000 │ 2587768956666.0 │\n",
       "│ 4011201000 │ 2225384669311.0 │\n",
       "│ 8523520000 │ 1979038722351.0 │\n",
       "│ 2918140000 │ 1954860744950.0 │\n",
       "│ 1701140000 │ 1868642321006.0 │\n",
       "│ 3401110000 │ 1392228264272.0 │\n",
       "├────────────┴─────────────────┤\n",
       "│ 10 rows            2 columns │\n",
       "└──────────────────────────────┘"
      ]
     },
     "execution_count": 25,
     "metadata": {},
     "output_type": "execute_result"
    }
   ],
   "source": [
    "top_valle_exports = rel.query(\n",
    "    virtual_table_name=\"top_valle_exports\",\n",
    "    sql_query=\"\"\"SELECT POSAR, SUM(FOBPES) TOTAL_FOBPES\n",
    "    FROM rel\n",
    "    WHERE DPTO1 = 76\n",
    "    AND MODAD = 198\n",
    "    AND POSAR <> 901119000\n",
    "    GROUP BY POSAR\n",
    "    ORDER BY TOTAL_FOBPES desc\n",
    "    LIMIT 10;\n",
    "    \"\"\"\n",
    ")\n",
    "top_valle_exports"
   ]
  },
  {
   "cell_type": "markdown",
   "id": "737bb0e0",
   "metadata": {},
   "source": [
    "## Top Valle del Cauca Exported Goods by Agregated Value (COP)\n",
    "\n",
    "- SUGARS AND SUGAR CONFECTIONERY = **17**.\n",
    "- ORGANIC CHEMICALS = **29**.\n",
    "- RUBBER AND ARTICLES THEREOF = **40**.\n",
    "- ESSENTIAL OILS AND RESINOIDS; PERFUMERY, COSMETIC OR TOILET PREPARATIONS = **33**.\n",
    "- ELECTRICAL MACHINERY AND EQUIPMENT AND PARTS THEREOF; SOUND RECORDERS AND REPRODUCERS; TELEVISION IMAGE AND SOUND RECORDERS AND REPRODUCERS, PARTS AND ACCESSORIES OF SUCH ARTICLES = **85**."
   ]
  },
  {
   "cell_type": "code",
   "execution_count": 24,
   "id": "03ae78f7",
   "metadata": {},
   "outputs": [
    {
     "data": {
      "text/plain": [
       "┌────────────┬──────────────┐\n",
       "│   POSAR    │ TOTAL_AGRENA │\n",
       "│   uint64   │    double    │\n",
       "├────────────┼──────────────┤\n",
       "│ 1704901000 │  798135554.0 │\n",
       "│ 1701999000 │  489145670.0 │\n",
       "│ 2918140000 │  477775397.0 │\n",
       "│ 4011201000 │  415211786.0 │\n",
       "│ 3004902900 │  254436279.0 │\n",
       "│ 3306100000 │  240464356.0 │\n",
       "│ 8523520000 │  230193767.0 │\n",
       "│ 3304990000 │  199749003.0 │\n",
       "│ 8544499020 │  154456470.0 │\n",
       "│ 3306900000 │  150083670.0 │\n",
       "├────────────┴──────────────┤\n",
       "│ 10 rows         2 columns │\n",
       "└───────────────────────────┘"
      ]
     },
     "execution_count": 24,
     "metadata": {},
     "output_type": "execute_result"
    }
   ],
   "source": [
    "top_valle_agrena = rel.query(\n",
    "    virtual_table_name=\"top_valle_agrena\",\n",
    "    sql_query=\"\"\"SELECT POSAR, SUM(AGRENA) TOTAL_AGRENA\n",
    "    FROM rel\n",
    "    WHERE DPTO1 = 76\n",
    "    AND MODAD = 198\n",
    "    AND POSAR <> 901119000\n",
    "    GROUP BY POSAR\n",
    "    ORDER BY TOTAL_AGRENA desc\n",
    "    LIMIT 10;\n",
    "    \"\"\"\n",
    ")\n",
    "top_valle_agrena"
   ]
  },
  {
   "cell_type": "markdown",
   "id": "a1bd448f",
   "metadata": {},
   "source": [
    "## Top Valle del Cauca Exports Destination by Value (COP)\n",
    "\n",
    "- United States = USA.\n",
    "- Ecuador = ECU.\n",
    "- Peru = PER.\n",
    "- Chile = CHL.\n",
    "- Mexico = MEX.\n",
    "- China = CHN.\n",
    "- Venezuela = VEN.\n",
    "- Dominican Republic = DOM.\n",
    "- Panama = PAN.\n",
    "- Brazil = BRA."
   ]
  },
  {
   "cell_type": "code",
   "execution_count": 23,
   "id": "f1f10dd6",
   "metadata": {},
   "outputs": [
    {
     "data": {
      "text/plain": [
       "┌──────────┬──────────────────┐\n",
       "│ COD_PAI4 │   TOTAL_FOBPES   │\n",
       "│ varchar  │      double      │\n",
       "├──────────┼──────────────────┤\n",
       "│ USA      │ 16424281381684.0 │\n",
       "│ ECU      │ 11946354543325.0 │\n",
       "│ PER      │  6793737554809.0 │\n",
       "│ CHL      │  4703884940311.0 │\n",
       "│ MEX      │  4480336657354.0 │\n",
       "│ CHN      │  3936371561251.0 │\n",
       "│ VEN      │  2434020564921.0 │\n",
       "│ DOM      │  2387392178722.0 │\n",
       "│ PAN      │  2275493878512.0 │\n",
       "│ BRA      │  2262575454994.0 │\n",
       "├──────────┴──────────────────┤\n",
       "│ 10 rows           2 columns │\n",
       "└─────────────────────────────┘"
      ]
     },
     "execution_count": 23,
     "metadata": {},
     "output_type": "execute_result"
    }
   ],
   "source": [
    "top_valle_destinations = rel.query(\n",
    "    virtual_table_name=\"top_valle_destinations\",\n",
    "    sql_query=\"\"\"SELECT COD_PAI4, SUM(FOBPES) TOTAL_FOBPES\n",
    "    FROM rel\n",
    "    WHERE DPTO1 = 76\n",
    "    AND MODAD = 198\n",
    "    AND POSAR <> 901119000\n",
    "    GROUP BY COD_PAI4\n",
    "    ORDER BY TOTAL_FOBPES desc\n",
    "    LIMIT 10;\n",
    "    \"\"\"\n",
    ")\n",
    "top_valle_destinations"
   ]
  },
  {
   "cell_type": "markdown",
   "id": "d5ea7317",
   "metadata": {},
   "source": [
    "## Valle del Cauca Exports to Korea Value (COP)"
   ]
  },
  {
   "cell_type": "code",
   "execution_count": 21,
   "id": "536c8fc9",
   "metadata": {},
   "outputs": [
    {
     "data": {
      "text/plain": [
       "┌──────────┬────────────────┐\n",
       "│ COD_PAI4 │  TOTAL_FOBPES  │\n",
       "│ varchar  │     double     │\n",
       "├──────────┼────────────────┤\n",
       "│ KOR      │ 430441599012.0 │\n",
       "└──────────┴────────────────┘"
      ]
     },
     "execution_count": 21,
     "metadata": {},
     "output_type": "execute_result"
    }
   ],
   "source": [
    "value_exports_to_korea = rel.query(\n",
    "    virtual_table_name=\"value_exports_to_korea\",\n",
    "    sql_query=\"\"\"SELECT COD_PAI4, SUM(FOBPES) TOTAL_FOBPES\n",
    "    FROM rel\n",
    "    WHERE DPTO1 = 76\n",
    "    AND COD_PAI4 = 'KOR'\n",
    "    AND MODAD = 198\n",
    "    AND POSAR <> 901119000\n",
    "    GROUP BY COD_PAI4;\n",
    "    \"\"\"\n",
    ")\n",
    "value_exports_to_korea"
   ]
  },
  {
   "cell_type": "markdown",
   "id": "94154300",
   "metadata": {},
   "source": [
    "## Top Valle del Cauca Exported Goods to Korea by Value (COP)\n",
    "\n",
    "- COPPER AND ARTICLES THEREOF = **74**.\n",
    "- PAPER AND PAPERBOARD; ARTICLES OF PAPER PULP, OF PAPER OR PAPERBOARD = **48**.\n",
    "- PREPARATIONS OF VEGETABLES, FRUIT, NUTS OR OTHER PARTS OF PLANTS = **20**.\n",
    "- SUGARS AND SUGAR CONFECTIONERY = **17**.\n",
    "- ALUMINIUM AND ARTICLES THEREOF = **76**."
   ]
  },
  {
   "cell_type": "code",
   "execution_count": 22,
   "id": "7de48c2e",
   "metadata": {},
   "outputs": [
    {
     "data": {
      "text/plain": [
       "┌────────────┬────────────────┐\n",
       "│   POSAR    │  TOTAL_FOBPES  │\n",
       "│   uint64   │     double     │\n",
       "├────────────┼────────────────┤\n",
       "│ 7404000010 │ 221841854647.0 │\n",
       "│ 4805939000 │  91760561314.0 │\n",
       "│ 2008993000 │  26086622810.0 │\n",
       "│ 1704901000 │  20952217511.0 │\n",
       "│ 7602000000 │  12724974271.0 │\n",
       "│ 4805929000 │  11742354754.0 │\n",
       "│ 4802579000 │   8575497670.0 │\n",
       "│ 4810990000 │   6798235878.0 │\n",
       "│ 1701140000 │   6244112401.0 │\n",
       "│ 1701130000 │   5354043940.0 │\n",
       "├────────────┴────────────────┤\n",
       "│ 10 rows           2 columns │\n",
       "└─────────────────────────────┘"
      ]
     },
     "execution_count": 22,
     "metadata": {},
     "output_type": "execute_result"
    }
   ],
   "source": [
    "top_exports_to_korea = rel.query(\n",
    "    virtual_table_name=\"top_exports_to_korea\",\n",
    "    sql_query=\"\"\"SELECT POSAR, SUM(FOBPES) TOTAL_FOBPES\n",
    "    FROM rel\n",
    "    WHERE DPTO1 = 76\n",
    "    AND COD_PAI4 = 'KOR'\n",
    "    AND MODAD = 198\n",
    "    AND POSAR <> 901119000\n",
    "    GROUP BY POSAR\n",
    "    ORDER BY TOTAL_FOBPES desc\n",
    "    LIMIT 10;\n",
    "    \"\"\"\n",
    ")\n",
    "top_exports_to_korea"
   ]
  }
 ],
 "metadata": {
  "kernelspec": {
   "display_name": "talento-tech",
   "language": "python",
   "name": "python3"
  },
  "language_info": {
   "codemirror_mode": {
    "name": "ipython",
    "version": 3
   },
   "file_extension": ".py",
   "mimetype": "text/x-python",
   "name": "python",
   "nbconvert_exporter": "python",
   "pygments_lexer": "ipython3",
   "version": "3.12.11"
  }
 },
 "nbformat": 4,
 "nbformat_minor": 5
}
